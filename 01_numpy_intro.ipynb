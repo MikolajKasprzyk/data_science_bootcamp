{
  "nbformat": 4,
  "nbformat_minor": 0,
  "metadata": {
    "colab": {
      "provenance": [],
      "authorship_tag": "ABX9TyODZazIf+GS6NSqksqyWW9r",
      "include_colab_link": true
    },
    "kernelspec": {
      "name": "python3",
      "display_name": "Python 3"
    },
    "language_info": {
      "name": "python"
    }
  },
  "cells": [
    {
      "cell_type": "markdown",
      "metadata": {
        "id": "view-in-github",
        "colab_type": "text"
      },
      "source": [
        "<a href=\"https://colab.research.google.com/github/MikolajKasprzyk/data_science_bootcamp/blob/main/01_numpy_intro.ipynb\" target=\"_parent\"><img src=\"https://colab.research.google.com/assets/colab-badge.svg\" alt=\"Open In Colab\"/></a>"
      ]
    },
    {
      "cell_type": "markdown",
      "source": [],
      "metadata": {
        "id": "ADV5OVyncqIG"
      }
    },
    {
      "cell_type": "markdown",
      "source": [
        "### Spis treści:\n",
        "1. [Podstawy](#a1)\n",
        "2. [Typy danych](#a2)\n",
        "3. [Tworzenie tablic](#a3)\n",
        "4. [Podstawowe operacje na tablicach](#a4)\n",
        "5. [Generowanie liczb pseudolosowych](#a5)\n",
        "6. [Podstawowe funkcje](#a6)\n",
        "7. [Indeksowanie, Wycinanie](#a7)\n",
        "8. [Iteracja po tablicach](#a8)\n",
        "9. [Zmiana rozmiaru tablic](#a9)\n",
        "10. [Maski logiczne](#a10)"
      ],
      "metadata": {
        "id": "s-YnAGGunElR"
      }
    },
    {
      "cell_type": "markdown",
      "source": [
        "### <a name='a1'></a> Podstawy"
      ],
      "metadata": {
        "id": "ZHfRXvAbcd7U"
      }
    },
    {
      "cell_type": "code",
      "source": [
        "import numpy as np\n",
        "np.__version__"
      ],
      "metadata": {
        "colab": {
          "base_uri": "https://localhost:8080/",
          "height": 35
        },
        "id": "xjBmjXgEckDg",
        "outputId": "af164a55-6c7e-426a-b6a0-7b861211c2bd"
      },
      "execution_count": 13,
      "outputs": [
        {
          "output_type": "execute_result",
          "data": {
            "text/plain": [
              "'1.22.4'"
            ],
            "application/vnd.google.colaboratory.intrinsic+json": {
              "type": "string"
            }
          },
          "metadata": {},
          "execution_count": 13
        }
      ]
    },
    {
      "cell_type": "code",
      "source": [
        "dir(np)"
      ],
      "metadata": {
        "id": "bmluRu7ydVP-"
      },
      "execution_count": null,
      "outputs": []
    },
    {
      "cell_type": "code",
      "source": [
        "help(np.array)"
      ],
      "metadata": {
        "id": "OMWuLSjDduVe"
      },
      "execution_count": null,
      "outputs": []
    },
    {
      "cell_type": "markdown",
      "source": [
        "1D Array"
      ],
      "metadata": {
        "id": "DZj0SfPoeD6j"
      }
    },
    {
      "cell_type": "code",
      "source": [
        "x = np.array([1, 3])\n",
        "x"
      ],
      "metadata": {
        "colab": {
          "base_uri": "https://localhost:8080/"
        },
        "id": "wEKtpgBQeIGo",
        "outputId": "8ad98b6d-0867-434a-97be-dcd3d56bdca5"
      },
      "execution_count": 16,
      "outputs": [
        {
          "output_type": "execute_result",
          "data": {
            "text/plain": [
              "array([1, 3])"
            ]
          },
          "metadata": {},
          "execution_count": 16
        }
      ]
    },
    {
      "cell_type": "code",
      "source": [
        "print(x)"
      ],
      "metadata": {
        "colab": {
          "base_uri": "https://localhost:8080/"
        },
        "id": "c9l4cao-eNlI",
        "outputId": "6b657167-32ad-47f1-d5ff-1be618366e6d"
      },
      "execution_count": 17,
      "outputs": [
        {
          "output_type": "stream",
          "name": "stdout",
          "text": [
            "[1 3]\n"
          ]
        }
      ]
    },
    {
      "cell_type": "code",
      "source": [
        "type(x)"
      ],
      "metadata": {
        "colab": {
          "base_uri": "https://localhost:8080/"
        },
        "id": "9A7NawpfeRDH",
        "outputId": "cf634490-1f36-46dc-b3f0-79331e1ece4e"
      },
      "execution_count": 18,
      "outputs": [
        {
          "output_type": "execute_result",
          "data": {
            "text/plain": [
              "numpy.ndarray"
            ]
          },
          "metadata": {},
          "execution_count": 18
        }
      ]
    },
    {
      "cell_type": "code",
      "source": [
        "x.ndim # wymiar tablicy\n",
        "x.shape # kształt tablicy\n",
        "x.size # rozmiar - liczba elementów w tablicy\n",
        "x.dtype # typ danych tablicy"
      ],
      "metadata": {
        "colab": {
          "base_uri": "https://localhost:8080/"
        },
        "id": "s1gUb3lDeUCH",
        "outputId": "8f12ceff-82ab-40b0-d54c-f5541d0aae1c"
      },
      "execution_count": 19,
      "outputs": [
        {
          "output_type": "execute_result",
          "data": {
            "text/plain": [
              "dtype('int64')"
            ]
          },
          "metadata": {},
          "execution_count": 19
        }
      ]
    },
    {
      "cell_type": "code",
      "source": [
        "y = np.array([1.3, 2.3, 2.4])\n",
        "print(y)"
      ],
      "metadata": {
        "colab": {
          "base_uri": "https://localhost:8080/"
        },
        "id": "N5cltoWWerTb",
        "outputId": "14a10160-4d80-4ddf-e970-0ef275b0b6a4"
      },
      "execution_count": 20,
      "outputs": [
        {
          "output_type": "stream",
          "name": "stdout",
          "text": [
            "[1.3 2.3 2.4]\n"
          ]
        }
      ]
    },
    {
      "cell_type": "code",
      "source": [
        "y.dtype"
      ],
      "metadata": {
        "colab": {
          "base_uri": "https://localhost:8080/"
        },
        "id": "BGBdB24ue0KP",
        "outputId": "7fbd94c4-93e9-4cb9-d647-f6a72e6a6066"
      },
      "execution_count": 22,
      "outputs": [
        {
          "output_type": "execute_result",
          "data": {
            "text/plain": [
              "dtype('float64')"
            ]
          },
          "metadata": {},
          "execution_count": 22
        }
      ]
    },
    {
      "cell_type": "markdown",
      "source": [
        "2D Array"
      ],
      "metadata": {
        "id": "ThOseM2AfDwP"
      }
    },
    {
      "cell_type": "code",
      "source": [
        "x = np.array([[1,2], [-3, 1]])\n",
        "print(x)"
      ],
      "metadata": {
        "colab": {
          "base_uri": "https://localhost:8080/"
        },
        "id": "2JJTjJFze8jf",
        "outputId": "c0f54392-0341-4f77-cdbf-d2bad56fc471"
      },
      "execution_count": 25,
      "outputs": [
        {
          "output_type": "stream",
          "name": "stdout",
          "text": [
            "[[ 1  2]\n",
            " [-3  1]]\n"
          ]
        }
      ]
    },
    {
      "cell_type": "code",
      "source": [
        "x.ndim"
      ],
      "metadata": {
        "colab": {
          "base_uri": "https://localhost:8080/"
        },
        "id": "rkWVdh59fVYd",
        "outputId": "120eaa5e-0088-4a7d-eb8c-5c1b2d96e639"
      },
      "execution_count": 26,
      "outputs": [
        {
          "output_type": "execute_result",
          "data": {
            "text/plain": [
              "2"
            ]
          },
          "metadata": {},
          "execution_count": 26
        }
      ]
    },
    {
      "cell_type": "code",
      "source": [
        "x.shape"
      ],
      "metadata": {
        "colab": {
          "base_uri": "https://localhost:8080/"
        },
        "id": "-qaIqPCLfbRE",
        "outputId": "36ebea54-3f1f-4a55-d092-16d28d02bfd9"
      },
      "execution_count": 27,
      "outputs": [
        {
          "output_type": "execute_result",
          "data": {
            "text/plain": [
              "(2, 2)"
            ]
          },
          "metadata": {},
          "execution_count": 27
        }
      ]
    },
    {
      "cell_type": "code",
      "source": [
        "x = np.array([[1, 2, 3], [4, 2, 1]])\n",
        "print(x)"
      ],
      "metadata": {
        "colab": {
          "base_uri": "https://localhost:8080/"
        },
        "id": "6VrHC2bhfc7x",
        "outputId": "d037f6c4-9559-4aa8-c07b-79388af1c674"
      },
      "execution_count": 29,
      "outputs": [
        {
          "output_type": "stream",
          "name": "stdout",
          "text": [
            "[[1 2 3]\n",
            " [4 2 1]]\n"
          ]
        }
      ]
    },
    {
      "cell_type": "code",
      "source": [
        "x.shape"
      ],
      "metadata": {
        "colab": {
          "base_uri": "https://localhost:8080/"
        },
        "id": "W84Bwya5f3e_",
        "outputId": "022c00b9-286f-44cd-d03a-d82677a1d9ac"
      },
      "execution_count": 30,
      "outputs": [
        {
          "output_type": "execute_result",
          "data": {
            "text/plain": [
              "(2, 3)"
            ]
          },
          "metadata": {},
          "execution_count": 30
        }
      ]
    },
    {
      "cell_type": "markdown",
      "source": [
        "3D Array"
      ],
      "metadata": {
        "id": "l06Ltv_Bf8QS"
      }
    },
    {
      "cell_type": "code",
      "source": [
        "x = np.array(\n",
        "    [[[4, 3, 1],\n",
        "      [3, 1, 2]],\n",
        "      \n",
        "      [[4, 1, 3],\n",
        "       [4, 2, 1]]]\n",
        ")\n",
        "x"
      ],
      "metadata": {
        "colab": {
          "base_uri": "https://localhost:8080/"
        },
        "id": "wEC0NY-tf66P",
        "outputId": "9a9251ea-decd-4a55-e0bf-4ca661d98aaa"
      },
      "execution_count": 32,
      "outputs": [
        {
          "output_type": "execute_result",
          "data": {
            "text/plain": [
              "array([[[4, 3, 1],\n",
              "        [3, 1, 2]],\n",
              "\n",
              "       [[4, 1, 3],\n",
              "        [4, 2, 1]]])"
            ]
          },
          "metadata": {},
          "execution_count": 32
        }
      ]
    },
    {
      "cell_type": "code",
      "source": [
        "x.ndim"
      ],
      "metadata": {
        "colab": {
          "base_uri": "https://localhost:8080/"
        },
        "id": "RoN2rtU-g1ra",
        "outputId": "9ed35b55-d860-4498-c736-d17e318ec434"
      },
      "execution_count": 33,
      "outputs": [
        {
          "output_type": "execute_result",
          "data": {
            "text/plain": [
              "3"
            ]
          },
          "metadata": {},
          "execution_count": 33
        }
      ]
    },
    {
      "cell_type": "code",
      "source": [
        "x.shape"
      ],
      "metadata": {
        "colab": {
          "base_uri": "https://localhost:8080/"
        },
        "id": "ChqOfKdshGBU",
        "outputId": "f65107c3-da9e-488a-f77e-59abe986abdd"
      },
      "execution_count": 34,
      "outputs": [
        {
          "output_type": "execute_result",
          "data": {
            "text/plain": [
              "(2, 2, 3)"
            ]
          },
          "metadata": {},
          "execution_count": 34
        }
      ]
    },
    {
      "cell_type": "markdown",
      "source": [
        "### <a name='a2'></a> Typy danych\n"
      ],
      "metadata": {
        "id": "6vGQrSnlisHy"
      }
    },
    {
      "cell_type": "code",
      "source": [
        "A = np.array([1, 2, 3])\n",
        "A.dtype"
      ],
      "metadata": {
        "colab": {
          "base_uri": "https://localhost:8080/"
        },
        "id": "14gWv-fhhHZI",
        "outputId": "684b5a6c-fb7c-4c93-8303-edefa3e5fd4f"
      },
      "execution_count": 35,
      "outputs": [
        {
          "output_type": "execute_result",
          "data": {
            "text/plain": [
              "dtype('int64')"
            ]
          },
          "metadata": {},
          "execution_count": 35
        }
      ]
    },
    {
      "cell_type": "code",
      "source": [
        "A = np.array([1, 2, 3], dtype='float') # ustawienie typu danych z palca\n",
        "A.dtype"
      ],
      "metadata": {
        "colab": {
          "base_uri": "https://localhost:8080/"
        },
        "id": "oglzOspYi32s",
        "outputId": "cf0320ff-b025-4fd6-905d-957f53b2294a"
      },
      "execution_count": 37,
      "outputs": [
        {
          "output_type": "execute_result",
          "data": {
            "text/plain": [
              "dtype('float64')"
            ]
          },
          "metadata": {},
          "execution_count": 37
        }
      ]
    },
    {
      "cell_type": "code",
      "source": [
        "# taki manewr zmieni nam typ ale rowniez zaokragli liczby\n",
        "A = np.array([1.3, 2.6, 3.1], dtype='int')\n",
        "A.dtype\n",
        "print(A)"
      ],
      "metadata": {
        "colab": {
          "base_uri": "https://localhost:8080/"
        },
        "id": "nJnIKnEii-5o",
        "outputId": "346a777b-9ff0-4d4c-96da-6f8a42401a20"
      },
      "execution_count": 40,
      "outputs": [
        {
          "output_type": "stream",
          "name": "stdout",
          "text": [
            "[1 2 3]\n"
          ]
        }
      ]
    },
    {
      "cell_type": "code",
      "source": [
        "A = np.array([True, False])\n",
        "A.dtype"
      ],
      "metadata": {
        "colab": {
          "base_uri": "https://localhost:8080/"
        },
        "id": "JvIcAkGjjVrQ",
        "outputId": "2523dabf-fe8d-4d78-ddc8-c84771e0bf83"
      },
      "execution_count": 42,
      "outputs": [
        {
          "output_type": "execute_result",
          "data": {
            "text/plain": [
              "dtype('bool')"
            ]
          },
          "metadata": {},
          "execution_count": 42
        }
      ]
    },
    {
      "cell_type": "code",
      "source": [
        "A = np.array([24, 120, 230], dtype=np.int8) # liczby int 8-bitowe"
      ],
      "metadata": {
        "id": "mfrNlTJNjshm"
      },
      "execution_count": 43,
      "outputs": []
    },
    {
      "cell_type": "code",
      "source": [
        "A = np.array([24, 120, 230], dtype=np.iunt8) # unsigned int 8-bitowe"
      ],
      "metadata": {
        "id": "lyKtJx6lkESn"
      },
      "execution_count": null,
      "outputs": []
    },
    {
      "cell_type": "markdown",
      "source": [
        "### <a name='a3'></a> Tworzenie tablic"
      ],
      "metadata": {
        "id": "Maxj4w2XkMOf"
      }
    },
    {
      "cell_type": "code",
      "source": [
        "# tworzenie tablicy z zerami o zadanym wymiarze\n",
        "np.zeros(shape=(4, 10), dtype='int')"
      ],
      "metadata": {
        "colab": {
          "base_uri": "https://localhost:8080/"
        },
        "id": "mj_EGnDjkLsw",
        "outputId": "496c2476-6eb2-439c-aeed-48d828c6ae74"
      },
      "execution_count": 45,
      "outputs": [
        {
          "output_type": "execute_result",
          "data": {
            "text/plain": [
              "array([[0, 0, 0, 0, 0, 0, 0, 0, 0, 0],\n",
              "       [0, 0, 0, 0, 0, 0, 0, 0, 0, 0],\n",
              "       [0, 0, 0, 0, 0, 0, 0, 0, 0, 0],\n",
              "       [0, 0, 0, 0, 0, 0, 0, 0, 0, 0]])"
            ]
          },
          "metadata": {},
          "execution_count": 45
        }
      ]
    },
    {
      "cell_type": "code",
      "source": [
        "# tworzenie tablicy z jedynkami o zadanym wymiarze\n",
        "np.ones(shape=(5, 5), dtype='int')"
      ],
      "metadata": {
        "colab": {
          "base_uri": "https://localhost:8080/"
        },
        "id": "5sOt3yNokXCI",
        "outputId": "961aa50f-5358-47f5-84f2-07312d575568"
      },
      "execution_count": 47,
      "outputs": [
        {
          "output_type": "execute_result",
          "data": {
            "text/plain": [
              "array([[1, 1, 1, 1, 1],\n",
              "       [1, 1, 1, 1, 1],\n",
              "       [1, 1, 1, 1, 1],\n",
              "       [1, 1, 1, 1, 1],\n",
              "       [1, 1, 1, 1, 1]])"
            ]
          },
          "metadata": {},
          "execution_count": 47
        }
      ]
    },
    {
      "cell_type": "code",
      "source": [
        "# tworzenie tablicy o zadanej wartosci o zadanym wymiarze\n",
        "np.full(shape=(5, 5), fill_value=4, dtype='int')"
      ],
      "metadata": {
        "colab": {
          "base_uri": "https://localhost:8080/"
        },
        "id": "Fm19FgzQkxXw",
        "outputId": "842aea40-43bf-4466-cc88-b46556f42b88"
      },
      "execution_count": 48,
      "outputs": [
        {
          "output_type": "execute_result",
          "data": {
            "text/plain": [
              "array([[4, 4, 4, 4, 4],\n",
              "       [4, 4, 4, 4, 4],\n",
              "       [4, 4, 4, 4, 4],\n",
              "       [4, 4, 4, 4, 4],\n",
              "       [4, 4, 4, 4, 4]])"
            ]
          },
          "metadata": {},
          "execution_count": 48
        }
      ]
    },
    {
      "cell_type": "code",
      "source": [
        "# tworzy tablice z zadanych liczb\n",
        "np.arange(10)"
      ],
      "metadata": {
        "colab": {
          "base_uri": "https://localhost:8080/"
        },
        "id": "SoXj17NYk_RT",
        "outputId": "021462c9-e431-43dd-a4d5-0aec82c2543e"
      },
      "execution_count": 50,
      "outputs": [
        {
          "output_type": "execute_result",
          "data": {
            "text/plain": [
              "array([0, 1, 2, 3, 4, 5, 6, 7, 8, 9])"
            ]
          },
          "metadata": {},
          "execution_count": 50
        }
      ]
    },
    {
      "cell_type": "code",
      "source": [
        "# tworzy tablice z zadanych liczb\n",
        "np.arange(start=10, stop=100, step=10)"
      ],
      "metadata": {
        "colab": {
          "base_uri": "https://localhost:8080/"
        },
        "id": "r5mZF5DtlHGV",
        "outputId": "95bbd4fe-864b-40b4-9980-f3366cc74016"
      },
      "execution_count": 52,
      "outputs": [
        {
          "output_type": "execute_result",
          "data": {
            "text/plain": [
              "array([10, 20, 30, 40, 50, 60, 70, 80, 90])"
            ]
          },
          "metadata": {},
          "execution_count": 52
        }
      ]
    },
    {
      "cell_type": "code",
      "source": [
        "# przedział i zadana liczba elementów w rownych odleglosciach\n",
        "np.linspace(start=0, stop=1, num=10)"
      ],
      "metadata": {
        "colab": {
          "base_uri": "https://localhost:8080/"
        },
        "id": "NL5euAhElU5t",
        "outputId": "726c03f7-e992-427e-85e8-ce07f17c2b25"
      },
      "execution_count": 54,
      "outputs": [
        {
          "output_type": "execute_result",
          "data": {
            "text/plain": [
              "array([0.        , 0.11111111, 0.22222222, 0.33333333, 0.44444444,\n",
              "       0.55555556, 0.66666667, 0.77777778, 0.88888889, 1.        ])"
            ]
          },
          "metadata": {},
          "execution_count": 54
        }
      ]
    },
    {
      "cell_type": "code",
      "source": [
        "A = np.arange(15)\n",
        "A.reshape((3, 5)) # zmiana kształtu tablicy (nie zmienia oryginału)"
      ],
      "metadata": {
        "colab": {
          "base_uri": "https://localhost:8080/"
        },
        "id": "WwiSmaOMli2-",
        "outputId": "e7cbbdc2-46ba-4c36-d633-8d13771da4d5"
      },
      "execution_count": 59,
      "outputs": [
        {
          "output_type": "execute_result",
          "data": {
            "text/plain": [
              "array([ 0,  1,  2,  3,  4,  5,  6,  7,  8,  9, 10, 11, 12, 13, 14])"
            ]
          },
          "metadata": {},
          "execution_count": 59
        }
      ]
    },
    {
      "cell_type": "code",
      "source": [
        "A.reshape((3, -1)) # z automatu dobiera liczbe kolumn, dziala tez na odwrot"
      ],
      "metadata": {
        "colab": {
          "base_uri": "https://localhost:8080/"
        },
        "id": "rA5szubfmJYt",
        "outputId": "85bababf-de14-4bfe-da5c-0811e538bbe3"
      },
      "execution_count": 60,
      "outputs": [
        {
          "output_type": "execute_result",
          "data": {
            "text/plain": [
              "array([[ 0,  1,  2,  3,  4],\n",
              "       [ 5,  6,  7,  8,  9],\n",
              "       [10, 11, 12, 13, 14]])"
            ]
          },
          "metadata": {},
          "execution_count": 60
        }
      ]
    },
    {
      "cell_type": "markdown",
      "source": [
        "### <a name='a4'></a> Podstawowe opercje na tablicach"
      ],
      "metadata": {
        "id": "oS4i6FFMmywa"
      }
    },
    {
      "cell_type": "code",
      "source": [
        "A = np.array([3, 1, 4, 2])\n",
        "B = np.array([3, -1, 3, 2])\n",
        "print(A)\n",
        "print(B)"
      ],
      "metadata": {
        "colab": {
          "base_uri": "https://localhost:8080/"
        },
        "id": "3Tnm8Pfmmnbt",
        "outputId": "5380143f-b989-4245-b81a-174254f6f287"
      },
      "execution_count": 61,
      "outputs": [
        {
          "output_type": "stream",
          "name": "stdout",
          "text": [
            "[3 1 4 2]\n",
            "[ 3 -1  3  2]\n"
          ]
        }
      ]
    },
    {
      "cell_type": "code",
      "source": [
        "A + B"
      ],
      "metadata": {
        "colab": {
          "base_uri": "https://localhost:8080/"
        },
        "id": "zEnbvSp0n4Xo",
        "outputId": "c428f2a7-f566-4d9a-fb12-d07b7420c680"
      },
      "execution_count": 62,
      "outputs": [
        {
          "output_type": "execute_result",
          "data": {
            "text/plain": [
              "array([6, 0, 7, 4])"
            ]
          },
          "metadata": {},
          "execution_count": 62
        }
      ]
    },
    {
      "cell_type": "code",
      "source": [
        "A - B"
      ],
      "metadata": {
        "colab": {
          "base_uri": "https://localhost:8080/"
        },
        "id": "IzT7YtTfn8zg",
        "outputId": "be7319e7-73e3-4bfa-9b4b-50589293a083"
      },
      "execution_count": 63,
      "outputs": [
        {
          "output_type": "execute_result",
          "data": {
            "text/plain": [
              "array([0, 2, 1, 0])"
            ]
          },
          "metadata": {},
          "execution_count": 63
        }
      ]
    },
    {
      "cell_type": "code",
      "source": [
        "A * B"
      ],
      "metadata": {
        "colab": {
          "base_uri": "https://localhost:8080/"
        },
        "id": "VOCuBGvan_mO",
        "outputId": "d1a2fb99-79d2-4025-9e16-842dc5a08f7b"
      },
      "execution_count": 64,
      "outputs": [
        {
          "output_type": "execute_result",
          "data": {
            "text/plain": [
              "array([ 9, -1, 12,  4])"
            ]
          },
          "metadata": {},
          "execution_count": 64
        }
      ]
    },
    {
      "cell_type": "code",
      "source": [
        "A / B"
      ],
      "metadata": {
        "colab": {
          "base_uri": "https://localhost:8080/"
        },
        "id": "owdcSQywoCiV",
        "outputId": "b7839122-d771-4132-8df6-fb998b408041"
      },
      "execution_count": 65,
      "outputs": [
        {
          "output_type": "execute_result",
          "data": {
            "text/plain": [
              "array([ 1.        , -1.        ,  1.33333333,  1.        ])"
            ]
          },
          "metadata": {},
          "execution_count": 65
        }
      ]
    },
    {
      "cell_type": "code",
      "source": [
        "A + 3 # dodaje 3 do kazdego elementu\n",
        "# analogicznie działa z innymi działaniami"
      ],
      "metadata": {
        "colab": {
          "base_uri": "https://localhost:8080/"
        },
        "id": "veLIHSJooD68",
        "outputId": "17798ad4-decf-4e42-a768-1e81b7c37cb6"
      },
      "execution_count": 66,
      "outputs": [
        {
          "output_type": "execute_result",
          "data": {
            "text/plain": [
              "array([6, 4, 7, 5])"
            ]
          },
          "metadata": {},
          "execution_count": 66
        }
      ]
    },
    {
      "cell_type": "code",
      "source": [
        "# podtsawowe działania w numpy - dziła jak to powyzej\n",
        "np.add(A, B)\n",
        "np.subtract(A, B)\n",
        "np.multiply(A, B)\n",
        "np.divide(A, B)"
      ],
      "metadata": {
        "id": "0oJQY5WIodmz"
      },
      "execution_count": null,
      "outputs": []
    },
    {
      "cell_type": "code",
      "source": [
        "A + 3*B"
      ],
      "metadata": {
        "colab": {
          "base_uri": "https://localhost:8080/"
        },
        "id": "MK-Gs6qNoQQ0",
        "outputId": "49f44136-9c88-43fb-f1fe-9625150a416b"
      },
      "execution_count": 67,
      "outputs": [
        {
          "output_type": "execute_result",
          "data": {
            "text/plain": [
              "array([12, -2, 13,  8])"
            ]
          },
          "metadata": {},
          "execution_count": 67
        }
      ]
    },
    {
      "cell_type": "markdown",
      "source": [
        "Mnożenie macierzowe"
      ],
      "metadata": {
        "id": "DVomqaoPowd8"
      }
    },
    {
      "cell_type": "code",
      "source": [
        "X = np.array([[1, 3], [-2, 0]])\n",
        "Y = np.array([[6, 0], [-1, 2]])\n",
        "print(X)\n",
        "print(Y)"
      ],
      "metadata": {
        "colab": {
          "base_uri": "https://localhost:8080/"
        },
        "id": "Y4FXSGPooZQe",
        "outputId": "8950a350-6738-4182-e8a6-e9ff093dc80a"
      },
      "execution_count": 69,
      "outputs": [
        {
          "output_type": "stream",
          "name": "stdout",
          "text": [
            "[[ 1  3]\n",
            " [-2  0]]\n",
            "[[ 6  0]\n",
            " [-1  2]]\n"
          ]
        }
      ]
    },
    {
      "cell_type": "code",
      "source": [
        " np.dot(X, Y)"
      ],
      "metadata": {
        "colab": {
          "base_uri": "https://localhost:8080/"
        },
        "id": "z6-_lKpcpFX3",
        "outputId": "7ec0c6f3-d125-483e-83c3-1eea294a0a0f"
      },
      "execution_count": 70,
      "outputs": [
        {
          "output_type": "execute_result",
          "data": {
            "text/plain": [
              "array([[  3,   6],\n",
              "       [-12,   0]])"
            ]
          },
          "metadata": {},
          "execution_count": 70
        }
      ]
    },
    {
      "cell_type": "code",
      "source": [
        "X.dot(Y)\n",
        "Y.dot(X)\n",
        "# mnożenie macierzy nie jest przemienne"
      ],
      "metadata": {
        "id": "lrl30bI9qNTj"
      },
      "execution_count": null,
      "outputs": []
    },
    {
      "cell_type": "code",
      "source": [
        "X @ Y # mnożenie macierzy przy użyciu symbolu - to samo co metoda dot"
      ],
      "metadata": {
        "id": "PYgrB-RZpX9Z"
      },
      "execution_count": null,
      "outputs": []
    },
    {
      "cell_type": "markdown",
      "source": [
        "### <a name='a5'></a> Generowanie liczb pseudolosowych"
      ],
      "metadata": {
        "id": "hTddQ8vgqkid"
      }
    },
    {
      "cell_type": "code",
      "source": [
        "np.random.seed(0)"
      ],
      "metadata": {
        "id": "pzK-08GKqsCU"
      },
      "execution_count": 71,
      "outputs": []
    },
    {
      "cell_type": "code",
      "source": [
        "np.random.randn(10) # losowy rozkład normalny"
      ],
      "metadata": {
        "colab": {
          "base_uri": "https://localhost:8080/"
        },
        "id": "O8y_c5tOqxpe",
        "outputId": "c9fde37c-8147-4c91-b2a1-bbbdc92dbb4b"
      },
      "execution_count": 72,
      "outputs": [
        {
          "output_type": "execute_result",
          "data": {
            "text/plain": [
              "array([ 1.76405235,  0.40015721,  0.97873798,  2.2408932 ,  1.86755799,\n",
              "       -0.97727788,  0.95008842, -0.15135721, -0.10321885,  0.4105985 ])"
            ]
          },
          "metadata": {},
          "execution_count": 72
        }
      ]
    },
    {
      "cell_type": "code",
      "source": [
        "np.random.randn(10, 4) # losowa tablica o zadanym rozmiarze"
      ],
      "metadata": {
        "colab": {
          "base_uri": "https://localhost:8080/"
        },
        "id": "BecnQQ2yq9QX",
        "outputId": "ee629441-9887-44f6-9cae-e230aa3b2fa2"
      },
      "execution_count": 73,
      "outputs": [
        {
          "output_type": "execute_result",
          "data": {
            "text/plain": [
              "array([[ 0.14404357,  1.45427351,  0.76103773,  0.12167502],\n",
              "       [ 0.44386323,  0.33367433,  1.49407907, -0.20515826],\n",
              "       [ 0.3130677 , -0.85409574, -2.55298982,  0.6536186 ],\n",
              "       [ 0.8644362 , -0.74216502,  2.26975462, -1.45436567],\n",
              "       [ 0.04575852, -0.18718385,  1.53277921,  1.46935877],\n",
              "       [ 0.15494743,  0.37816252, -0.88778575, -1.98079647],\n",
              "       [-0.34791215,  0.15634897,  1.23029068,  1.20237985],\n",
              "       [-0.38732682, -0.30230275, -1.04855297, -1.42001794],\n",
              "       [-1.70627019,  1.9507754 , -0.50965218, -0.4380743 ],\n",
              "       [-1.25279536,  0.77749036, -1.61389785, -0.21274028]])"
            ]
          },
          "metadata": {},
          "execution_count": 73
        }
      ]
    },
    {
      "cell_type": "code",
      "source": [
        "np.random.rand() # losowa wartosc z przedzialu 0 1"
      ],
      "metadata": {
        "colab": {
          "base_uri": "https://localhost:8080/"
        },
        "id": "4WqHGKafrJ65",
        "outputId": "af2f9212-0ae5-4e64-834d-41161b1d9571"
      },
      "execution_count": 74,
      "outputs": [
        {
          "output_type": "execute_result",
          "data": {
            "text/plain": [
              "0.15896958364551972"
            ]
          },
          "metadata": {},
          "execution_count": 74
        }
      ]
    },
    {
      "cell_type": "code",
      "source": [
        "np.random.rand(10)"
      ],
      "metadata": {
        "colab": {
          "base_uri": "https://localhost:8080/"
        },
        "id": "jOXw2jMErRvJ",
        "outputId": "115ca1b9-e42d-4e5c-eb3b-37a522ca5ded"
      },
      "execution_count": 75,
      "outputs": [
        {
          "output_type": "execute_result",
          "data": {
            "text/plain": [
              "array([0.11037514, 0.65632959, 0.13818295, 0.19658236, 0.36872517,\n",
              "       0.82099323, 0.09710128, 0.83794491, 0.09609841, 0.97645947])"
            ]
          },
          "metadata": {},
          "execution_count": 75
        }
      ]
    },
    {
      "cell_type": "code",
      "source": [
        "np.random.rand(8, 7)"
      ],
      "metadata": {
        "colab": {
          "base_uri": "https://localhost:8080/"
        },
        "id": "XjQp-4YerUAU",
        "outputId": "0f298a97-ba9c-46d0-8862-b87c30d1b06a"
      },
      "execution_count": 76,
      "outputs": [
        {
          "output_type": "execute_result",
          "data": {
            "text/plain": [
              "array([[0.4686512 , 0.97676109, 0.60484552, 0.73926358, 0.03918779,\n",
              "        0.28280696, 0.12019656],\n",
              "       [0.2961402 , 0.11872772, 0.31798318, 0.41426299, 0.0641475 ,\n",
              "        0.69247212, 0.56660145],\n",
              "       [0.26538949, 0.52324805, 0.09394051, 0.5759465 , 0.9292962 ,\n",
              "        0.31856895, 0.66741038],\n",
              "       [0.13179786, 0.7163272 , 0.28940609, 0.18319136, 0.58651293,\n",
              "        0.02010755, 0.82894003],\n",
              "       [0.00469548, 0.67781654, 0.27000797, 0.73519402, 0.96218855,\n",
              "        0.24875314, 0.57615733],\n",
              "       [0.59204193, 0.57225191, 0.22308163, 0.95274901, 0.44712538,\n",
              "        0.84640867, 0.69947928],\n",
              "       [0.29743695, 0.81379782, 0.39650574, 0.8811032 , 0.58127287,\n",
              "        0.88173536, 0.69253159],\n",
              "       [0.72525428, 0.50132438, 0.95608363, 0.6439902 , 0.42385505,\n",
              "        0.60639321, 0.0191932 ]])"
            ]
          },
          "metadata": {},
          "execution_count": 76
        }
      ]
    },
    {
      "cell_type": "code",
      "source": [
        "np.random.randint(10) # losuje od 0 do 10 (max 9)"
      ],
      "metadata": {
        "colab": {
          "base_uri": "https://localhost:8080/"
        },
        "id": "XCT1YLJcrVqW",
        "outputId": "5136182b-fc04-4fce-c9cc-84753c02da02"
      },
      "execution_count": 77,
      "outputs": [
        {
          "output_type": "execute_result",
          "data": {
            "text/plain": [
              "5"
            ]
          },
          "metadata": {},
          "execution_count": 77
        }
      ]
    },
    {
      "cell_type": "code",
      "source": [
        "np.random.randint(low=10, high=101, size=(8, 4))"
      ],
      "metadata": {
        "colab": {
          "base_uri": "https://localhost:8080/"
        },
        "id": "T4aeUAM5rbAo",
        "outputId": "46be35ca-af18-4ef9-ee97-7affbda52ca7"
      },
      "execution_count": 79,
      "outputs": [
        {
          "output_type": "execute_result",
          "data": {
            "text/plain": [
              "array([[23, 81, 66, 34],\n",
              "       [89, 51, 28, 50],\n",
              "       [64, 89, 21, 48],\n",
              "       [11, 54, 98, 34],\n",
              "       [77, 92, 13, 86],\n",
              "       [45, 96, 71, 79],\n",
              "       [97, 53, 42, 21],\n",
              "       [94, 20, 64, 47]])"
            ]
          },
          "metadata": {},
          "execution_count": 79
        }
      ]
    },
    {
      "cell_type": "code",
      "source": [
        "np.random.choice([4, 2, 1, 4]) # zwraca losowy element z zadanego obiektu"
      ],
      "metadata": {
        "colab": {
          "base_uri": "https://localhost:8080/"
        },
        "id": "8Ifr-wtGrlYf",
        "outputId": "f65dbf57-3b37-4af9-dac1-b7dfe424e8bf"
      },
      "execution_count": 80,
      "outputs": [
        {
          "output_type": "execute_result",
          "data": {
            "text/plain": [
              "2"
            ]
          },
          "metadata": {},
          "execution_count": 80
        }
      ]
    },
    {
      "cell_type": "code",
      "source": [
        "np.random.choice(['python', 'java', 'sql'])"
      ],
      "metadata": {
        "colab": {
          "base_uri": "https://localhost:8080/",
          "height": 35
        },
        "id": "msWKdFPyrwS_",
        "outputId": "cd33b60a-0603-41f4-cdc7-a5272664abb7"
      },
      "execution_count": 81,
      "outputs": [
        {
          "output_type": "execute_result",
          "data": {
            "text/plain": [
              "'python'"
            ],
            "application/vnd.google.colaboratory.intrinsic+json": {
              "type": "string"
            }
          },
          "metadata": {},
          "execution_count": 81
        }
      ]
    },
    {
      "cell_type": "code",
      "source": [
        "data = np.arange(10)\n",
        "data"
      ],
      "metadata": {
        "colab": {
          "base_uri": "https://localhost:8080/"
        },
        "id": "De8ll0-Kr6bQ",
        "outputId": "ab147945-6dae-4787-dc34-4a7c8fa2a731"
      },
      "execution_count": 82,
      "outputs": [
        {
          "output_type": "execute_result",
          "data": {
            "text/plain": [
              "array([0, 1, 2, 3, 4, 5, 6, 7, 8, 9])"
            ]
          },
          "metadata": {},
          "execution_count": 82
        }
      ]
    },
    {
      "cell_type": "code",
      "source": [
        "# tasuje dane - zmienia oryginał\n",
        "np.random.shuffle(data)\n",
        "data"
      ],
      "metadata": {
        "colab": {
          "base_uri": "https://localhost:8080/"
        },
        "id": "nB-r-b1ssAl8",
        "outputId": "7734cff8-65aa-4dd4-b515-46b048f5e578"
      },
      "execution_count": 84,
      "outputs": [
        {
          "output_type": "execute_result",
          "data": {
            "text/plain": [
              "array([6, 4, 0, 2, 1, 7, 5, 3, 8, 9])"
            ]
          },
          "metadata": {},
          "execution_count": 84
        }
      ]
    },
    {
      "cell_type": "markdown",
      "source": [
        "### <a name='a6'></a> Podstawowe funkcje "
      ],
      "metadata": {
        "id": "zcysjaTSsXjs"
      }
    },
    {
      "cell_type": "code",
      "source": [
        "np.exp(1) # liczba e do potegi 1"
      ],
      "metadata": {
        "colab": {
          "base_uri": "https://localhost:8080/"
        },
        "id": "xRIvNjIbsEmq",
        "outputId": "a12aa745-51ea-4a4a-8dc5-1888783d9bf3"
      },
      "execution_count": 85,
      "outputs": [
        {
          "output_type": "execute_result",
          "data": {
            "text/plain": [
              "2.718281828459045"
            ]
          },
          "metadata": {},
          "execution_count": 85
        }
      ]
    },
    {
      "cell_type": "code",
      "source": [
        "np.sqrt(9)"
      ],
      "metadata": {
        "colab": {
          "base_uri": "https://localhost:8080/"
        },
        "id": "g8-cD8jAshf0",
        "outputId": "a4b5e84d-bbab-4872-e6f6-42bd33afdf79"
      },
      "execution_count": 91,
      "outputs": [
        {
          "output_type": "execute_result",
          "data": {
            "text/plain": [
              "3.0"
            ]
          },
          "metadata": {},
          "execution_count": 91
        }
      ]
    },
    {
      "cell_type": "code",
      "source": [
        "np.all([2, 3, 1]) # jesli wszystkie prawda to zwraca prawde"
      ],
      "metadata": {
        "colab": {
          "base_uri": "https://localhost:8080/"
        },
        "id": "jsqO4C-7tVuM",
        "outputId": "9aff13ad-bd2a-49f3-8f8b-d1e743511e0b"
      },
      "execution_count": 89,
      "outputs": [
        {
          "output_type": "execute_result",
          "data": {
            "text/plain": [
              "20.085536923187664"
            ]
          },
          "metadata": {},
          "execution_count": 89
        }
      ]
    },
    {
      "cell_type": "code",
      "source": [],
      "metadata": {
        "id": "S2Ooc9ExtY5I"
      },
      "execution_count": null,
      "outputs": []
    }
  ]
}