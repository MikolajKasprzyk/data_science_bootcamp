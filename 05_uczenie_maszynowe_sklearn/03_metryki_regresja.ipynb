{
  "nbformat": 4,
  "nbformat_minor": 0,
  "metadata": {
    "colab": {
      "provenance": [],
      "authorship_tag": "ABX9TyOY20TKqi+VOYMMGNQk46yN",
      "include_colab_link": true
    },
    "kernelspec": {
      "name": "python3",
      "display_name": "Python 3"
    },
    "language_info": {
      "name": "python"
    }
  },
  "cells": [
    {
      "cell_type": "markdown",
      "metadata": {
        "id": "view-in-github",
        "colab_type": "text"
      },
      "source": [
        "<a href=\"https://colab.research.google.com/github/MikolajKasprzyk/data_science_bootcamp/blob/main/05_uczenie_maszynowe_sklearn/03_metryki_regresja.ipynb\" target=\"_parent\"><img src=\"https://colab.research.google.com/assets/colab-badge.svg\" alt=\"Open In Colab\"/></a>"
      ]
    },
    {
      "cell_type": "code",
      "execution_count": null,
      "metadata": {
        "id": "Al08F6OUO-Np"
      },
      "outputs": [],
      "source": [
        "import numpy as np\n",
        "import pandas as pd\n",
        "import plotly.graph_objects as go\n",
        "from plotly.subplots import make_subplots\n",
        "import plotly.express as px\n"
      ]
    },
    {
      "cell_type": "code",
      "source": [
        "y_true = 100 + 20 * np.random.randn(50)\n",
        "y_true"
      ],
      "metadata": {
        "colab": {
          "base_uri": "https://localhost:8080/"
        },
        "id": "Kvpl9FBRPR8o",
        "outputId": "3a783267-2bb5-4032-cfa1-aa439b9ca429"
      },
      "execution_count": null,
      "outputs": [
        {
          "output_type": "execute_result",
          "data": {
            "text/plain": [
              "array([ 89.37171367, 117.57339023, 111.63304809,  88.44214963,\n",
              "       101.13332766, 100.68014186, 127.46391021, 106.73309846,\n",
              "       134.36275785, 111.25749179, 130.11494959,  93.00672822,\n",
              "       137.79202958,  96.80367581,  70.19817636, 100.47000416,\n",
              "       108.34956176, 121.19816574,  98.27599349,  79.37271046,\n",
              "       114.74210575, 125.84664298, 121.44347642, 112.69627353,\n",
              "       101.20250464, 104.4163333 ,  90.03823083, 113.92250444,\n",
              "        95.72311805,  62.37770639, 101.12729365,  86.71777028,\n",
              "        96.74237487, 116.12027338,  84.945213  ,  71.54506565,\n",
              "       119.0318474 ,  94.66729758,  92.21689468,  88.13310431,\n",
              "       113.72702522, 113.72096008,  90.09865204, 131.23439564,\n",
              "       100.11663423,  57.80248696, 122.4556052 , 121.9320863 ,\n",
              "       106.01239398, 108.5375194 ])"
            ]
          },
          "metadata": {},
          "execution_count": 2
        }
      ]
    },
    {
      "cell_type": "code",
      "source": [
        "y_pred = y_true + 10 * np.random.randn(50)\n",
        "y_pred"
      ],
      "metadata": {
        "colab": {
          "base_uri": "https://localhost:8080/"
        },
        "id": "fdJMNOxjPct8",
        "outputId": "7433df63-be5b-462d-f13b-5f0dab50c227"
      },
      "execution_count": null,
      "outputs": [
        {
          "output_type": "execute_result",
          "data": {
            "text/plain": [
              "array([ 75.97875174, 124.25330118, 116.52275527,  93.68485561,\n",
              "        96.08562768, 112.13210924, 134.50462349, 106.09568384,\n",
              "       136.55402119, 106.82095986, 142.5747664 ,  71.5249833 ,\n",
              "       148.87545324,  93.98407244,  83.21050974,  90.78002089,\n",
              "       112.18522414, 113.11199169,  88.61787856,  71.1387871 ,\n",
              "       105.9704627 , 130.81776703, 111.09884152, 104.60698838,\n",
              "        85.50040017, 108.49056326,  86.97223763, 106.73562592,\n",
              "        99.2503145 ,  58.66667644,  90.67321782,  72.53702682,\n",
              "        94.71774817,  96.34250655,  98.40447622,  84.8685861 ,\n",
              "       117.28881074,  94.40783762,  61.80205076,  80.10322012,\n",
              "       101.95516406, 130.37744734, 103.53084226, 126.0512554 ,\n",
              "        93.5013658 ,  59.7184361 , 124.00056398, 138.69572669,\n",
              "       113.29122365,  95.89176603])"
            ]
          },
          "metadata": {},
          "execution_count": 3
        }
      ]
    },
    {
      "cell_type": "code",
      "source": [
        "results = pd.DataFrame({'y_true':y_true, 'y_pred':y_pred})\n",
        "results.head()"
      ],
      "metadata": {
        "colab": {
          "base_uri": "https://localhost:8080/",
          "height": 206
        },
        "id": "Q_7eJFGbPdO8",
        "outputId": "79b64fd9-3496-4f35-dd72-a85d3fcb384a"
      },
      "execution_count": null,
      "outputs": [
        {
          "output_type": "execute_result",
          "data": {
            "text/plain": [
              "       y_true      y_pred\n",
              "0   89.371714   75.978752\n",
              "1  117.573390  124.253301\n",
              "2  111.633048  116.522755\n",
              "3   88.442150   93.684856\n",
              "4  101.133328   96.085628"
            ],
            "text/html": [
              "\n",
              "\n",
              "  <div id=\"df-e165aaa8-ce4c-4d5a-8ed7-79b8f61fab7a\">\n",
              "    <div class=\"colab-df-container\">\n",
              "      <div>\n",
              "<style scoped>\n",
              "    .dataframe tbody tr th:only-of-type {\n",
              "        vertical-align: middle;\n",
              "    }\n",
              "\n",
              "    .dataframe tbody tr th {\n",
              "        vertical-align: top;\n",
              "    }\n",
              "\n",
              "    .dataframe thead th {\n",
              "        text-align: right;\n",
              "    }\n",
              "</style>\n",
              "<table border=\"1\" class=\"dataframe\">\n",
              "  <thead>\n",
              "    <tr style=\"text-align: right;\">\n",
              "      <th></th>\n",
              "      <th>y_true</th>\n",
              "      <th>y_pred</th>\n",
              "    </tr>\n",
              "  </thead>\n",
              "  <tbody>\n",
              "    <tr>\n",
              "      <th>0</th>\n",
              "      <td>89.371714</td>\n",
              "      <td>75.978752</td>\n",
              "    </tr>\n",
              "    <tr>\n",
              "      <th>1</th>\n",
              "      <td>117.573390</td>\n",
              "      <td>124.253301</td>\n",
              "    </tr>\n",
              "    <tr>\n",
              "      <th>2</th>\n",
              "      <td>111.633048</td>\n",
              "      <td>116.522755</td>\n",
              "    </tr>\n",
              "    <tr>\n",
              "      <th>3</th>\n",
              "      <td>88.442150</td>\n",
              "      <td>93.684856</td>\n",
              "    </tr>\n",
              "    <tr>\n",
              "      <th>4</th>\n",
              "      <td>101.133328</td>\n",
              "      <td>96.085628</td>\n",
              "    </tr>\n",
              "  </tbody>\n",
              "</table>\n",
              "</div>\n",
              "      <button class=\"colab-df-convert\" onclick=\"convertToInteractive('df-e165aaa8-ce4c-4d5a-8ed7-79b8f61fab7a')\"\n",
              "              title=\"Convert this dataframe to an interactive table.\"\n",
              "              style=\"display:none;\">\n",
              "\n",
              "  <svg xmlns=\"http://www.w3.org/2000/svg\" height=\"24px\"viewBox=\"0 0 24 24\"\n",
              "       width=\"24px\">\n",
              "    <path d=\"M0 0h24v24H0V0z\" fill=\"none\"/>\n",
              "    <path d=\"M18.56 5.44l.94 2.06.94-2.06 2.06-.94-2.06-.94-.94-2.06-.94 2.06-2.06.94zm-11 1L8.5 8.5l.94-2.06 2.06-.94-2.06-.94L8.5 2.5l-.94 2.06-2.06.94zm10 10l.94 2.06.94-2.06 2.06-.94-2.06-.94-.94-2.06-.94 2.06-2.06.94z\"/><path d=\"M17.41 7.96l-1.37-1.37c-.4-.4-.92-.59-1.43-.59-.52 0-1.04.2-1.43.59L10.3 9.45l-7.72 7.72c-.78.78-.78 2.05 0 2.83L4 21.41c.39.39.9.59 1.41.59.51 0 1.02-.2 1.41-.59l7.78-7.78 2.81-2.81c.8-.78.8-2.07 0-2.86zM5.41 20L4 18.59l7.72-7.72 1.47 1.35L5.41 20z\"/>\n",
              "  </svg>\n",
              "      </button>\n",
              "\n",
              "\n",
              "\n",
              "    <div id=\"df-7286587e-bf7b-4882-8194-4a41ecb0b634\">\n",
              "      <button class=\"colab-df-quickchart\" onclick=\"quickchart('df-7286587e-bf7b-4882-8194-4a41ecb0b634')\"\n",
              "              title=\"Suggest charts.\"\n",
              "              style=\"display:none;\">\n",
              "\n",
              "<svg xmlns=\"http://www.w3.org/2000/svg\" height=\"24px\"viewBox=\"0 0 24 24\"\n",
              "     width=\"24px\">\n",
              "    <g>\n",
              "        <path d=\"M19 3H5c-1.1 0-2 .9-2 2v14c0 1.1.9 2 2 2h14c1.1 0 2-.9 2-2V5c0-1.1-.9-2-2-2zM9 17H7v-7h2v7zm4 0h-2V7h2v10zm4 0h-2v-4h2v4z\"/>\n",
              "    </g>\n",
              "</svg>\n",
              "      </button>\n",
              "    </div>\n",
              "\n",
              "<style>\n",
              "  .colab-df-quickchart {\n",
              "    background-color: #E8F0FE;\n",
              "    border: none;\n",
              "    border-radius: 50%;\n",
              "    cursor: pointer;\n",
              "    display: none;\n",
              "    fill: #1967D2;\n",
              "    height: 32px;\n",
              "    padding: 0 0 0 0;\n",
              "    width: 32px;\n",
              "  }\n",
              "\n",
              "  .colab-df-quickchart:hover {\n",
              "    background-color: #E2EBFA;\n",
              "    box-shadow: 0px 1px 2px rgba(60, 64, 67, 0.3), 0px 1px 3px 1px rgba(60, 64, 67, 0.15);\n",
              "    fill: #174EA6;\n",
              "  }\n",
              "\n",
              "  [theme=dark] .colab-df-quickchart {\n",
              "    background-color: #3B4455;\n",
              "    fill: #D2E3FC;\n",
              "  }\n",
              "\n",
              "  [theme=dark] .colab-df-quickchart:hover {\n",
              "    background-color: #434B5C;\n",
              "    box-shadow: 0px 1px 3px 1px rgba(0, 0, 0, 0.15);\n",
              "    filter: drop-shadow(0px 1px 2px rgba(0, 0, 0, 0.3));\n",
              "    fill: #FFFFFF;\n",
              "  }\n",
              "</style>\n",
              "\n",
              "    <script>\n",
              "      async function quickchart(key) {\n",
              "        const containerElement = document.querySelector('#' + key);\n",
              "        const charts = await google.colab.kernel.invokeFunction(\n",
              "            'suggestCharts', [key], {});\n",
              "      }\n",
              "    </script>\n",
              "\n",
              "      <script>\n",
              "\n",
              "function displayQuickchartButton(domScope) {\n",
              "  let quickchartButtonEl =\n",
              "    domScope.querySelector('#df-7286587e-bf7b-4882-8194-4a41ecb0b634 button.colab-df-quickchart');\n",
              "  quickchartButtonEl.style.display =\n",
              "    google.colab.kernel.accessAllowed ? 'block' : 'none';\n",
              "}\n",
              "\n",
              "        displayQuickchartButton(document);\n",
              "      </script>\n",
              "      <style>\n",
              "    .colab-df-container {\n",
              "      display:flex;\n",
              "      flex-wrap:wrap;\n",
              "      gap: 12px;\n",
              "    }\n",
              "\n",
              "    .colab-df-convert {\n",
              "      background-color: #E8F0FE;\n",
              "      border: none;\n",
              "      border-radius: 50%;\n",
              "      cursor: pointer;\n",
              "      display: none;\n",
              "      fill: #1967D2;\n",
              "      height: 32px;\n",
              "      padding: 0 0 0 0;\n",
              "      width: 32px;\n",
              "    }\n",
              "\n",
              "    .colab-df-convert:hover {\n",
              "      background-color: #E2EBFA;\n",
              "      box-shadow: 0px 1px 2px rgba(60, 64, 67, 0.3), 0px 1px 3px 1px rgba(60, 64, 67, 0.15);\n",
              "      fill: #174EA6;\n",
              "    }\n",
              "\n",
              "    [theme=dark] .colab-df-convert {\n",
              "      background-color: #3B4455;\n",
              "      fill: #D2E3FC;\n",
              "    }\n",
              "\n",
              "    [theme=dark] .colab-df-convert:hover {\n",
              "      background-color: #434B5C;\n",
              "      box-shadow: 0px 1px 3px 1px rgba(0, 0, 0, 0.15);\n",
              "      filter: drop-shadow(0px 1px 2px rgba(0, 0, 0, 0.3));\n",
              "      fill: #FFFFFF;\n",
              "    }\n",
              "  </style>\n",
              "\n",
              "      <script>\n",
              "        const buttonEl =\n",
              "          document.querySelector('#df-e165aaa8-ce4c-4d5a-8ed7-79b8f61fab7a button.colab-df-convert');\n",
              "        buttonEl.style.display =\n",
              "          google.colab.kernel.accessAllowed ? 'block' : 'none';\n",
              "\n",
              "        async function convertToInteractive(key) {\n",
              "          const element = document.querySelector('#df-e165aaa8-ce4c-4d5a-8ed7-79b8f61fab7a');\n",
              "          const dataTable =\n",
              "            await google.colab.kernel.invokeFunction('convertToInteractive',\n",
              "                                                     [key], {});\n",
              "          if (!dataTable) return;\n",
              "\n",
              "          const docLinkHtml = 'Like what you see? Visit the ' +\n",
              "            '<a target=\"_blank\" href=https://colab.research.google.com/notebooks/data_table.ipynb>data table notebook</a>'\n",
              "            + ' to learn more about interactive tables.';\n",
              "          element.innerHTML = '';\n",
              "          dataTable['output_type'] = 'display_data';\n",
              "          await google.colab.output.renderOutput(dataTable, element);\n",
              "          const docLink = document.createElement('div');\n",
              "          docLink.innerHTML = docLinkHtml;\n",
              "          element.appendChild(docLink);\n",
              "        }\n",
              "      </script>\n",
              "    </div>\n",
              "  </div>\n"
            ]
          },
          "metadata": {},
          "execution_count": 4
        }
      ]
    },
    {
      "cell_type": "code",
      "source": [
        "results['error'] = results['y_true'] - results['y_pred']\n",
        "results.head()"
      ],
      "metadata": {
        "colab": {
          "base_uri": "https://localhost:8080/",
          "height": 206
        },
        "id": "NR01BD8CQCh9",
        "outputId": "b2e44470-a2fd-4b3c-e76b-8601d3ecb58d"
      },
      "execution_count": null,
      "outputs": [
        {
          "output_type": "execute_result",
          "data": {
            "text/plain": [
              "       y_true      y_pred      error\n",
              "0   89.371714   75.978752  13.392962\n",
              "1  117.573390  124.253301  -6.679911\n",
              "2  111.633048  116.522755  -4.889707\n",
              "3   88.442150   93.684856  -5.242706\n",
              "4  101.133328   96.085628   5.047700"
            ],
            "text/html": [
              "\n",
              "\n",
              "  <div id=\"df-55076535-86f4-4b3d-985b-9986c4eb546c\">\n",
              "    <div class=\"colab-df-container\">\n",
              "      <div>\n",
              "<style scoped>\n",
              "    .dataframe tbody tr th:only-of-type {\n",
              "        vertical-align: middle;\n",
              "    }\n",
              "\n",
              "    .dataframe tbody tr th {\n",
              "        vertical-align: top;\n",
              "    }\n",
              "\n",
              "    .dataframe thead th {\n",
              "        text-align: right;\n",
              "    }\n",
              "</style>\n",
              "<table border=\"1\" class=\"dataframe\">\n",
              "  <thead>\n",
              "    <tr style=\"text-align: right;\">\n",
              "      <th></th>\n",
              "      <th>y_true</th>\n",
              "      <th>y_pred</th>\n",
              "      <th>error</th>\n",
              "    </tr>\n",
              "  </thead>\n",
              "  <tbody>\n",
              "    <tr>\n",
              "      <th>0</th>\n",
              "      <td>89.371714</td>\n",
              "      <td>75.978752</td>\n",
              "      <td>13.392962</td>\n",
              "    </tr>\n",
              "    <tr>\n",
              "      <th>1</th>\n",
              "      <td>117.573390</td>\n",
              "      <td>124.253301</td>\n",
              "      <td>-6.679911</td>\n",
              "    </tr>\n",
              "    <tr>\n",
              "      <th>2</th>\n",
              "      <td>111.633048</td>\n",
              "      <td>116.522755</td>\n",
              "      <td>-4.889707</td>\n",
              "    </tr>\n",
              "    <tr>\n",
              "      <th>3</th>\n",
              "      <td>88.442150</td>\n",
              "      <td>93.684856</td>\n",
              "      <td>-5.242706</td>\n",
              "    </tr>\n",
              "    <tr>\n",
              "      <th>4</th>\n",
              "      <td>101.133328</td>\n",
              "      <td>96.085628</td>\n",
              "      <td>5.047700</td>\n",
              "    </tr>\n",
              "  </tbody>\n",
              "</table>\n",
              "</div>\n",
              "      <button class=\"colab-df-convert\" onclick=\"convertToInteractive('df-55076535-86f4-4b3d-985b-9986c4eb546c')\"\n",
              "              title=\"Convert this dataframe to an interactive table.\"\n",
              "              style=\"display:none;\">\n",
              "\n",
              "  <svg xmlns=\"http://www.w3.org/2000/svg\" height=\"24px\"viewBox=\"0 0 24 24\"\n",
              "       width=\"24px\">\n",
              "    <path d=\"M0 0h24v24H0V0z\" fill=\"none\"/>\n",
              "    <path d=\"M18.56 5.44l.94 2.06.94-2.06 2.06-.94-2.06-.94-.94-2.06-.94 2.06-2.06.94zm-11 1L8.5 8.5l.94-2.06 2.06-.94-2.06-.94L8.5 2.5l-.94 2.06-2.06.94zm10 10l.94 2.06.94-2.06 2.06-.94-2.06-.94-.94-2.06-.94 2.06-2.06.94z\"/><path d=\"M17.41 7.96l-1.37-1.37c-.4-.4-.92-.59-1.43-.59-.52 0-1.04.2-1.43.59L10.3 9.45l-7.72 7.72c-.78.78-.78 2.05 0 2.83L4 21.41c.39.39.9.59 1.41.59.51 0 1.02-.2 1.41-.59l7.78-7.78 2.81-2.81c.8-.78.8-2.07 0-2.86zM5.41 20L4 18.59l7.72-7.72 1.47 1.35L5.41 20z\"/>\n",
              "  </svg>\n",
              "      </button>\n",
              "\n",
              "\n",
              "\n",
              "    <div id=\"df-0972132d-6dde-407b-b757-3e6290efa557\">\n",
              "      <button class=\"colab-df-quickchart\" onclick=\"quickchart('df-0972132d-6dde-407b-b757-3e6290efa557')\"\n",
              "              title=\"Suggest charts.\"\n",
              "              style=\"display:none;\">\n",
              "\n",
              "<svg xmlns=\"http://www.w3.org/2000/svg\" height=\"24px\"viewBox=\"0 0 24 24\"\n",
              "     width=\"24px\">\n",
              "    <g>\n",
              "        <path d=\"M19 3H5c-1.1 0-2 .9-2 2v14c0 1.1.9 2 2 2h14c1.1 0 2-.9 2-2V5c0-1.1-.9-2-2-2zM9 17H7v-7h2v7zm4 0h-2V7h2v10zm4 0h-2v-4h2v4z\"/>\n",
              "    </g>\n",
              "</svg>\n",
              "      </button>\n",
              "    </div>\n",
              "\n",
              "<style>\n",
              "  .colab-df-quickchart {\n",
              "    background-color: #E8F0FE;\n",
              "    border: none;\n",
              "    border-radius: 50%;\n",
              "    cursor: pointer;\n",
              "    display: none;\n",
              "    fill: #1967D2;\n",
              "    height: 32px;\n",
              "    padding: 0 0 0 0;\n",
              "    width: 32px;\n",
              "  }\n",
              "\n",
              "  .colab-df-quickchart:hover {\n",
              "    background-color: #E2EBFA;\n",
              "    box-shadow: 0px 1px 2px rgba(60, 64, 67, 0.3), 0px 1px 3px 1px rgba(60, 64, 67, 0.15);\n",
              "    fill: #174EA6;\n",
              "  }\n",
              "\n",
              "  [theme=dark] .colab-df-quickchart {\n",
              "    background-color: #3B4455;\n",
              "    fill: #D2E3FC;\n",
              "  }\n",
              "\n",
              "  [theme=dark] .colab-df-quickchart:hover {\n",
              "    background-color: #434B5C;\n",
              "    box-shadow: 0px 1px 3px 1px rgba(0, 0, 0, 0.15);\n",
              "    filter: drop-shadow(0px 1px 2px rgba(0, 0, 0, 0.3));\n",
              "    fill: #FFFFFF;\n",
              "  }\n",
              "</style>\n",
              "\n",
              "    <script>\n",
              "      async function quickchart(key) {\n",
              "        const containerElement = document.querySelector('#' + key);\n",
              "        const charts = await google.colab.kernel.invokeFunction(\n",
              "            'suggestCharts', [key], {});\n",
              "      }\n",
              "    </script>\n",
              "\n",
              "      <script>\n",
              "\n",
              "function displayQuickchartButton(domScope) {\n",
              "  let quickchartButtonEl =\n",
              "    domScope.querySelector('#df-0972132d-6dde-407b-b757-3e6290efa557 button.colab-df-quickchart');\n",
              "  quickchartButtonEl.style.display =\n",
              "    google.colab.kernel.accessAllowed ? 'block' : 'none';\n",
              "}\n",
              "\n",
              "        displayQuickchartButton(document);\n",
              "      </script>\n",
              "      <style>\n",
              "    .colab-df-container {\n",
              "      display:flex;\n",
              "      flex-wrap:wrap;\n",
              "      gap: 12px;\n",
              "    }\n",
              "\n",
              "    .colab-df-convert {\n",
              "      background-color: #E8F0FE;\n",
              "      border: none;\n",
              "      border-radius: 50%;\n",
              "      cursor: pointer;\n",
              "      display: none;\n",
              "      fill: #1967D2;\n",
              "      height: 32px;\n",
              "      padding: 0 0 0 0;\n",
              "      width: 32px;\n",
              "    }\n",
              "\n",
              "    .colab-df-convert:hover {\n",
              "      background-color: #E2EBFA;\n",
              "      box-shadow: 0px 1px 2px rgba(60, 64, 67, 0.3), 0px 1px 3px 1px rgba(60, 64, 67, 0.15);\n",
              "      fill: #174EA6;\n",
              "    }\n",
              "\n",
              "    [theme=dark] .colab-df-convert {\n",
              "      background-color: #3B4455;\n",
              "      fill: #D2E3FC;\n",
              "    }\n",
              "\n",
              "    [theme=dark] .colab-df-convert:hover {\n",
              "      background-color: #434B5C;\n",
              "      box-shadow: 0px 1px 3px 1px rgba(0, 0, 0, 0.15);\n",
              "      filter: drop-shadow(0px 1px 2px rgba(0, 0, 0, 0.3));\n",
              "      fill: #FFFFFF;\n",
              "    }\n",
              "  </style>\n",
              "\n",
              "      <script>\n",
              "        const buttonEl =\n",
              "          document.querySelector('#df-55076535-86f4-4b3d-985b-9986c4eb546c button.colab-df-convert');\n",
              "        buttonEl.style.display =\n",
              "          google.colab.kernel.accessAllowed ? 'block' : 'none';\n",
              "\n",
              "        async function convertToInteractive(key) {\n",
              "          const element = document.querySelector('#df-55076535-86f4-4b3d-985b-9986c4eb546c');\n",
              "          const dataTable =\n",
              "            await google.colab.kernel.invokeFunction('convertToInteractive',\n",
              "                                                     [key], {});\n",
              "          if (!dataTable) return;\n",
              "\n",
              "          const docLinkHtml = 'Like what you see? Visit the ' +\n",
              "            '<a target=\"_blank\" href=https://colab.research.google.com/notebooks/data_table.ipynb>data table notebook</a>'\n",
              "            + ' to learn more about interactive tables.';\n",
              "          element.innerHTML = '';\n",
              "          dataTable['output_type'] = 'display_data';\n",
              "          await google.colab.output.renderOutput(dataTable, element);\n",
              "          const docLink = document.createElement('div');\n",
              "          docLink.innerHTML = docLinkHtml;\n",
              "          element.appendChild(docLink);\n",
              "        }\n",
              "      </script>\n",
              "    </div>\n",
              "  </div>\n"
            ]
          },
          "metadata": {},
          "execution_count": 5
        }
      ]
    },
    {
      "cell_type": "code",
      "source": [
        "def plot_regression_results(y_true, y_pred):\n",
        "    results = pd.DataFrame({'y_true': y_true, 'y_pred': y_pred})\n",
        "    # uzycie tego jako lini regresji nie jest optymalne, ale daje jakis obraz\n",
        "    min = results[['y_true', 'y_pred']].min().min()\n",
        "    max = results[['y_true', 'y_pred']].max().max()\n",
        "\n",
        "    fig = go.Figure(data=[go.Scatter(x=results['y_true'], y=results['y_pred'], mode='markers'),\n",
        "                    go.Scatter(x=[min, max], y=[min, max])],\n",
        "                    layout=go.Layout(showlegend=False, width=800, height=500,\n",
        "                                     xaxis_title='y_true',\n",
        "                                     yaxis_title='y_pred',\n",
        "                                     title='Regression results'))\n",
        "    fig.show()\n",
        "plot_regression_results(y_true, y_pred)"
      ],
      "metadata": {
        "colab": {
          "base_uri": "https://localhost:8080/",
          "height": 517
        },
        "id": "sFdKfJINQR5c",
        "outputId": "35a96d27-61ae-4cbd-94d4-b3ea78bbeead"
      },
      "execution_count": null,
      "outputs": [
        {
          "output_type": "display_data",
          "data": {
            "text/html": [
              "<html>\n",
              "<head><meta charset=\"utf-8\" /></head>\n",
              "<body>\n",
              "    <div>            <script src=\"https://cdnjs.cloudflare.com/ajax/libs/mathjax/2.7.5/MathJax.js?config=TeX-AMS-MML_SVG\"></script><script type=\"text/javascript\">if (window.MathJax && window.MathJax.Hub && window.MathJax.Hub.Config) {window.MathJax.Hub.Config({SVG: {font: \"STIX-Web\"}});}</script>                <script type=\"text/javascript\">window.PlotlyConfig = {MathJaxConfig: 'local'};</script>\n",
              "        <script src=\"https://cdn.plot.ly/plotly-2.18.2.min.js\"></script>                <div id=\"6c5ea7b4-9c74-4745-a861-c2fa5080345c\" class=\"plotly-graph-div\" style=\"height:500px; width:800px;\"></div>            <script type=\"text/javascript\">                                    window.PLOTLYENV=window.PLOTLYENV || {};                                    if (document.getElementById(\"6c5ea7b4-9c74-4745-a861-c2fa5080345c\")) {                    Plotly.newPlot(                        \"6c5ea7b4-9c74-4745-a861-c2fa5080345c\",                        [{\"mode\":\"markers\",\"x\":[89.3717136731947,117.57339022708666,111.63304809423147,88.4421496296484,101.13332766409773,100.68014186344683,127.46391020790887,106.73309846335977,134.36275784696963,111.25749179023484,130.11494958851597,93.00672822214833,137.79202958371224,96.80367580789431,70.19817635951553,100.47000415666471,108.34956175827355,121.19816574452564,98.27599349096013,79.37271045890819,114.74210574880915,125.84664298203418,121.44347641732654,112.69627353035588,101.20250463680657,104.41633329690866,90.03823082707675,113.92250443813872,95.72311804835181,62.37770638977521,101.12729365472235,86.7177702820648,96.74237486972365,116.12027337569681,84.94521300471962,71.54506565278535,119.03184740263487,94.66729758039291,92.21689468298882,88.13310430850015,113.72702522028354,113.72096008416806,90.09865203579805,131.2343956440318,100.11663423251485,57.802486961224,122.45560520292186,121.93208630174323,106.01239397604216,108.53751939704951],\"y\":[75.97875174113467,124.25330118139829,116.5227552725176,93.6848556068249,96.0856276823782,112.13210923842914,134.50462348586504,106.09568384079417,136.55402118971475,106.82095985853188,142.57476640268825,71.5249832973731,148.87545323900153,93.98407244037585,83.2105097395887,90.78002089399608,112.18522413934417,113.11199169318863,88.61787855821164,71.13878710490637,105.97046269791848,130.81776703047058,111.09884152441575,104.60698838105068,85.50040017228268,108.49056326449218,86.97223763107219,106.7356259203054,99.25031450117525,58.666676435684444,90.67321782051833,72.53702681727128,94.71774817497014,96.34250655329222,98.40447621715268,84.86858609804752,117.28881073963805,94.40783762329295,61.802050764606925,80.1032201227609,101.95516405785676,130.37744734459378,103.5308422577904,126.0512554007622,93.50136579590136,59.718436100203235,124.00056398205881,138.69572668633865,113.29122365457883,95.89176602535103],\"type\":\"scatter\"},{\"x\":[57.802486961224,148.87545323900153],\"y\":[57.802486961224,148.87545323900153],\"type\":\"scatter\"}],                        {\"height\":500,\"showlegend\":false,\"title\":{\"text\":\"Regression results\"},\"width\":800,\"xaxis\":{\"title\":{\"text\":\"y_true\"}},\"yaxis\":{\"title\":{\"text\":\"y_pred\"}},\"template\":{\"data\":{\"histogram2dcontour\":[{\"type\":\"histogram2dcontour\",\"colorbar\":{\"outlinewidth\":0,\"ticks\":\"\"},\"colorscale\":[[0.0,\"#0d0887\"],[0.1111111111111111,\"#46039f\"],[0.2222222222222222,\"#7201a8\"],[0.3333333333333333,\"#9c179e\"],[0.4444444444444444,\"#bd3786\"],[0.5555555555555556,\"#d8576b\"],[0.6666666666666666,\"#ed7953\"],[0.7777777777777778,\"#fb9f3a\"],[0.8888888888888888,\"#fdca26\"],[1.0,\"#f0f921\"]]}],\"choropleth\":[{\"type\":\"choropleth\",\"colorbar\":{\"outlinewidth\":0,\"ticks\":\"\"}}],\"histogram2d\":[{\"type\":\"histogram2d\",\"colorbar\":{\"outlinewidth\":0,\"ticks\":\"\"},\"colorscale\":[[0.0,\"#0d0887\"],[0.1111111111111111,\"#46039f\"],[0.2222222222222222,\"#7201a8\"],[0.3333333333333333,\"#9c179e\"],[0.4444444444444444,\"#bd3786\"],[0.5555555555555556,\"#d8576b\"],[0.6666666666666666,\"#ed7953\"],[0.7777777777777778,\"#fb9f3a\"],[0.8888888888888888,\"#fdca26\"],[1.0,\"#f0f921\"]]}],\"heatmap\":[{\"type\":\"heatmap\",\"colorbar\":{\"outlinewidth\":0,\"ticks\":\"\"},\"colorscale\":[[0.0,\"#0d0887\"],[0.1111111111111111,\"#46039f\"],[0.2222222222222222,\"#7201a8\"],[0.3333333333333333,\"#9c179e\"],[0.4444444444444444,\"#bd3786\"],[0.5555555555555556,\"#d8576b\"],[0.6666666666666666,\"#ed7953\"],[0.7777777777777778,\"#fb9f3a\"],[0.8888888888888888,\"#fdca26\"],[1.0,\"#f0f921\"]]}],\"heatmapgl\":[{\"type\":\"heatmapgl\",\"colorbar\":{\"outlinewidth\":0,\"ticks\":\"\"},\"colorscale\":[[0.0,\"#0d0887\"],[0.1111111111111111,\"#46039f\"],[0.2222222222222222,\"#7201a8\"],[0.3333333333333333,\"#9c179e\"],[0.4444444444444444,\"#bd3786\"],[0.5555555555555556,\"#d8576b\"],[0.6666666666666666,\"#ed7953\"],[0.7777777777777778,\"#fb9f3a\"],[0.8888888888888888,\"#fdca26\"],[1.0,\"#f0f921\"]]}],\"contourcarpet\":[{\"type\":\"contourcarpet\",\"colorbar\":{\"outlinewidth\":0,\"ticks\":\"\"}}],\"contour\":[{\"type\":\"contour\",\"colorbar\":{\"outlinewidth\":0,\"ticks\":\"\"},\"colorscale\":[[0.0,\"#0d0887\"],[0.1111111111111111,\"#46039f\"],[0.2222222222222222,\"#7201a8\"],[0.3333333333333333,\"#9c179e\"],[0.4444444444444444,\"#bd3786\"],[0.5555555555555556,\"#d8576b\"],[0.6666666666666666,\"#ed7953\"],[0.7777777777777778,\"#fb9f3a\"],[0.8888888888888888,\"#fdca26\"],[1.0,\"#f0f921\"]]}],\"surface\":[{\"type\":\"surface\",\"colorbar\":{\"outlinewidth\":0,\"ticks\":\"\"},\"colorscale\":[[0.0,\"#0d0887\"],[0.1111111111111111,\"#46039f\"],[0.2222222222222222,\"#7201a8\"],[0.3333333333333333,\"#9c179e\"],[0.4444444444444444,\"#bd3786\"],[0.5555555555555556,\"#d8576b\"],[0.6666666666666666,\"#ed7953\"],[0.7777777777777778,\"#fb9f3a\"],[0.8888888888888888,\"#fdca26\"],[1.0,\"#f0f921\"]]}],\"mesh3d\":[{\"type\":\"mesh3d\",\"colorbar\":{\"outlinewidth\":0,\"ticks\":\"\"}}],\"scatter\":[{\"fillpattern\":{\"fillmode\":\"overlay\",\"size\":10,\"solidity\":0.2},\"type\":\"scatter\"}],\"parcoords\":[{\"type\":\"parcoords\",\"line\":{\"colorbar\":{\"outlinewidth\":0,\"ticks\":\"\"}}}],\"scatterpolargl\":[{\"type\":\"scatterpolargl\",\"marker\":{\"colorbar\":{\"outlinewidth\":0,\"ticks\":\"\"}}}],\"bar\":[{\"error_x\":{\"color\":\"#2a3f5f\"},\"error_y\":{\"color\":\"#2a3f5f\"},\"marker\":{\"line\":{\"color\":\"#E5ECF6\",\"width\":0.5},\"pattern\":{\"fillmode\":\"overlay\",\"size\":10,\"solidity\":0.2}},\"type\":\"bar\"}],\"scattergeo\":[{\"type\":\"scattergeo\",\"marker\":{\"colorbar\":{\"outlinewidth\":0,\"ticks\":\"\"}}}],\"scatterpolar\":[{\"type\":\"scatterpolar\",\"marker\":{\"colorbar\":{\"outlinewidth\":0,\"ticks\":\"\"}}}],\"histogram\":[{\"marker\":{\"pattern\":{\"fillmode\":\"overlay\",\"size\":10,\"solidity\":0.2}},\"type\":\"histogram\"}],\"scattergl\":[{\"type\":\"scattergl\",\"marker\":{\"colorbar\":{\"outlinewidth\":0,\"ticks\":\"\"}}}],\"scatter3d\":[{\"type\":\"scatter3d\",\"line\":{\"colorbar\":{\"outlinewidth\":0,\"ticks\":\"\"}},\"marker\":{\"colorbar\":{\"outlinewidth\":0,\"ticks\":\"\"}}}],\"scattermapbox\":[{\"type\":\"scattermapbox\",\"marker\":{\"colorbar\":{\"outlinewidth\":0,\"ticks\":\"\"}}}],\"scatterternary\":[{\"type\":\"scatterternary\",\"marker\":{\"colorbar\":{\"outlinewidth\":0,\"ticks\":\"\"}}}],\"scattercarpet\":[{\"type\":\"scattercarpet\",\"marker\":{\"colorbar\":{\"outlinewidth\":0,\"ticks\":\"\"}}}],\"carpet\":[{\"aaxis\":{\"endlinecolor\":\"#2a3f5f\",\"gridcolor\":\"white\",\"linecolor\":\"white\",\"minorgridcolor\":\"white\",\"startlinecolor\":\"#2a3f5f\"},\"baxis\":{\"endlinecolor\":\"#2a3f5f\",\"gridcolor\":\"white\",\"linecolor\":\"white\",\"minorgridcolor\":\"white\",\"startlinecolor\":\"#2a3f5f\"},\"type\":\"carpet\"}],\"table\":[{\"cells\":{\"fill\":{\"color\":\"#EBF0F8\"},\"line\":{\"color\":\"white\"}},\"header\":{\"fill\":{\"color\":\"#C8D4E3\"},\"line\":{\"color\":\"white\"}},\"type\":\"table\"}],\"barpolar\":[{\"marker\":{\"line\":{\"color\":\"#E5ECF6\",\"width\":0.5},\"pattern\":{\"fillmode\":\"overlay\",\"size\":10,\"solidity\":0.2}},\"type\":\"barpolar\"}],\"pie\":[{\"automargin\":true,\"type\":\"pie\"}]},\"layout\":{\"autotypenumbers\":\"strict\",\"colorway\":[\"#636efa\",\"#EF553B\",\"#00cc96\",\"#ab63fa\",\"#FFA15A\",\"#19d3f3\",\"#FF6692\",\"#B6E880\",\"#FF97FF\",\"#FECB52\"],\"font\":{\"color\":\"#2a3f5f\"},\"hovermode\":\"closest\",\"hoverlabel\":{\"align\":\"left\"},\"paper_bgcolor\":\"white\",\"plot_bgcolor\":\"#E5ECF6\",\"polar\":{\"bgcolor\":\"#E5ECF6\",\"angularaxis\":{\"gridcolor\":\"white\",\"linecolor\":\"white\",\"ticks\":\"\"},\"radialaxis\":{\"gridcolor\":\"white\",\"linecolor\":\"white\",\"ticks\":\"\"}},\"ternary\":{\"bgcolor\":\"#E5ECF6\",\"aaxis\":{\"gridcolor\":\"white\",\"linecolor\":\"white\",\"ticks\":\"\"},\"baxis\":{\"gridcolor\":\"white\",\"linecolor\":\"white\",\"ticks\":\"\"},\"caxis\":{\"gridcolor\":\"white\",\"linecolor\":\"white\",\"ticks\":\"\"}},\"coloraxis\":{\"colorbar\":{\"outlinewidth\":0,\"ticks\":\"\"}},\"colorscale\":{\"sequential\":[[0.0,\"#0d0887\"],[0.1111111111111111,\"#46039f\"],[0.2222222222222222,\"#7201a8\"],[0.3333333333333333,\"#9c179e\"],[0.4444444444444444,\"#bd3786\"],[0.5555555555555556,\"#d8576b\"],[0.6666666666666666,\"#ed7953\"],[0.7777777777777778,\"#fb9f3a\"],[0.8888888888888888,\"#fdca26\"],[1.0,\"#f0f921\"]],\"sequentialminus\":[[0.0,\"#0d0887\"],[0.1111111111111111,\"#46039f\"],[0.2222222222222222,\"#7201a8\"],[0.3333333333333333,\"#9c179e\"],[0.4444444444444444,\"#bd3786\"],[0.5555555555555556,\"#d8576b\"],[0.6666666666666666,\"#ed7953\"],[0.7777777777777778,\"#fb9f3a\"],[0.8888888888888888,\"#fdca26\"],[1.0,\"#f0f921\"]],\"diverging\":[[0,\"#8e0152\"],[0.1,\"#c51b7d\"],[0.2,\"#de77ae\"],[0.3,\"#f1b6da\"],[0.4,\"#fde0ef\"],[0.5,\"#f7f7f7\"],[0.6,\"#e6f5d0\"],[0.7,\"#b8e186\"],[0.8,\"#7fbc41\"],[0.9,\"#4d9221\"],[1,\"#276419\"]]},\"xaxis\":{\"gridcolor\":\"white\",\"linecolor\":\"white\",\"ticks\":\"\",\"title\":{\"standoff\":15},\"zerolinecolor\":\"white\",\"automargin\":true,\"zerolinewidth\":2},\"yaxis\":{\"gridcolor\":\"white\",\"linecolor\":\"white\",\"ticks\":\"\",\"title\":{\"standoff\":15},\"zerolinecolor\":\"white\",\"automargin\":true,\"zerolinewidth\":2},\"scene\":{\"xaxis\":{\"backgroundcolor\":\"#E5ECF6\",\"gridcolor\":\"white\",\"linecolor\":\"white\",\"showbackground\":true,\"ticks\":\"\",\"zerolinecolor\":\"white\",\"gridwidth\":2},\"yaxis\":{\"backgroundcolor\":\"#E5ECF6\",\"gridcolor\":\"white\",\"linecolor\":\"white\",\"showbackground\":true,\"ticks\":\"\",\"zerolinecolor\":\"white\",\"gridwidth\":2},\"zaxis\":{\"backgroundcolor\":\"#E5ECF6\",\"gridcolor\":\"white\",\"linecolor\":\"white\",\"showbackground\":true,\"ticks\":\"\",\"zerolinecolor\":\"white\",\"gridwidth\":2}},\"shapedefaults\":{\"line\":{\"color\":\"#2a3f5f\"}},\"annotationdefaults\":{\"arrowcolor\":\"#2a3f5f\",\"arrowhead\":0,\"arrowwidth\":1},\"geo\":{\"bgcolor\":\"white\",\"landcolor\":\"#E5ECF6\",\"subunitcolor\":\"white\",\"showland\":true,\"showlakes\":true,\"lakecolor\":\"white\"},\"title\":{\"x\":0.05},\"mapbox\":{\"style\":\"light\"}}}},                        {\"responsive\": true}                    ).then(function(){\n",
              "                            \n",
              "var gd = document.getElementById('6c5ea7b4-9c74-4745-a861-c2fa5080345c');\n",
              "var x = new MutationObserver(function (mutations, observer) {{\n",
              "        var display = window.getComputedStyle(gd).display;\n",
              "        if (!display || display === 'none') {{\n",
              "            console.log([gd, 'removed!']);\n",
              "            Plotly.purge(gd);\n",
              "            observer.disconnect();\n",
              "        }}\n",
              "}});\n",
              "\n",
              "// Listen for the removal of the full notebook cells\n",
              "var notebookContainer = gd.closest('#notebook-container');\n",
              "if (notebookContainer) {{\n",
              "    x.observe(notebookContainer, {childList: true});\n",
              "}}\n",
              "\n",
              "// Listen for the clearing of the current output cell\n",
              "var outputEl = gd.closest('.output');\n",
              "if (outputEl) {{\n",
              "    x.observe(outputEl, {childList: true});\n",
              "}}\n",
              "\n",
              "                        })                };                            </script>        </div>\n",
              "</body>\n",
              "</html>"
            ]
          },
          "metadata": {}
        }
      ]
    },
    {
      "cell_type": "code",
      "source": [
        "y_true = 100 + 20 * np.random.randn(1000)\n",
        "y_pred = y_true + 10 * np.random.randn(1000)\n",
        "results = pd.DataFrame({'y_true': y_true, 'y_pred': y_pred})\n",
        "results['error'] = results['y_true'] - results['y_pred']\n",
        "# rozkład błędu\n",
        "px.histogram(results, x='error', nbins=50, width=800)\n",
        "# z tego histogramu mozemy dowiedziec sie czy model czesciej przeszacowuje czy niedoszacowuje"
      ],
      "metadata": {
        "colab": {
          "base_uri": "https://localhost:8080/",
          "height": 542
        },
        "id": "2t9gIQMYQZ-3",
        "outputId": "373ce5ec-bafd-4bc6-b685-0118c1a4f822"
      },
      "execution_count": null,
      "outputs": [
        {
          "output_type": "display_data",
          "data": {
            "text/html": [
              "<html>\n",
              "<head><meta charset=\"utf-8\" /></head>\n",
              "<body>\n",
              "    <div>            <script src=\"https://cdnjs.cloudflare.com/ajax/libs/mathjax/2.7.5/MathJax.js?config=TeX-AMS-MML_SVG\"></script><script type=\"text/javascript\">if (window.MathJax && window.MathJax.Hub && window.MathJax.Hub.Config) {window.MathJax.Hub.Config({SVG: {font: \"STIX-Web\"}});}</script>                <script type=\"text/javascript\">window.PlotlyConfig = {MathJaxConfig: 'local'};</script>\n",
              "        <script src=\"https://cdn.plot.ly/plotly-2.18.2.min.js\"></script>                <div id=\"48af4d1f-4b87-478d-89ee-04bcb9b5fec4\" class=\"plotly-graph-div\" style=\"height:525px; width:800px;\"></div>            <script type=\"text/javascript\">                                    window.PLOTLYENV=window.PLOTLYENV || {};                                    if (document.getElementById(\"48af4d1f-4b87-478d-89ee-04bcb9b5fec4\")) {                    Plotly.newPlot(                        \"48af4d1f-4b87-478d-89ee-04bcb9b5fec4\",                        [{\"alignmentgroup\":\"True\",\"bingroup\":\"x\",\"hovertemplate\":\"error=%{x}<br>count=%{y}<extra></extra>\",\"legendgroup\":\"\",\"marker\":{\"color\":\"#636efa\",\"pattern\":{\"shape\":\"\"}},\"name\":\"\",\"nbinsx\":50,\"offsetgroup\":\"\",\"orientation\":\"v\",\"showlegend\":false,\"x\":[18.40041056519405,9.040776527565285,9.127339578236842,9.92207235008027,6.526342433132314,5.958093764100909,7.831805246493843,-7.655513245259769,4.01645400695071,2.087411109586185,-3.0833617344100475,9.868884196693259,2.606595824047673,-8.86516298047168,0.6650479072181668,-1.5297950082425018,-16.794181408918732,16.10188513048,11.319267277268366,-4.171180476864862,-30.014864946280866,-14.746956118727127,-0.8017247348565348,14.933592948002044,-14.117943453797992,2.843897041609779,2.4394398869502822,-10.855886764222106,-13.09110252767676,-2.411837742802817,8.839410888796749,-7.792476001394732,8.45401418776396,-9.841870371272734,-3.749027915102843,6.045231338113439,-6.161443642084777,-9.242666307789008,-20.07011884974078,19.272286682409558,-1.757402078027539,-3.97298482624808,-11.106558043023142,26.8567444165936,-1.7146095337528493,6.206912339299308,-0.2946398250604716,-3.502016043169334,2.069162533374225,-8.900657253571168,2.7048055594084133,13.119014447504938,-1.4103835634983852,-2.725530609179728,0.3891646175152772,1.831943207386871,-3.619307081723008,12.285568319968036,-8.621440493784448,11.374128452298727,15.846710204797915,16.629215750504443,-8.767259054274845,-6.667129074023535,-3.9658826692513287,-5.643924003112957,-8.514375489069394,-1.375639733122874,-6.264066811538754,-0.5567096976091506,7.2159070372244685,5.033455131163777,-5.59744788999042,3.6854249881829304,6.015761157089898,-1.7968151909300616,1.5420962123341582,27.270704349181884,4.991418348732992,5.287803663920798,-0.36005381274688375,7.483234234754278,21.017003308353196,-9.153532665961023,5.60487903084433,-13.211775974103233,21.645682345610297,10.336675734254655,-11.030402174604319,-3.620589910787217,-4.0970601424456845,3.324289013651992,5.494605797583077,-2.065297806217629,-5.54274618979035,-19.11407967032534,-4.167277666432241,3.9089678088873683,3.5550492774284237,-1.6117637517950811,-1.7332896075714643,-9.079743013266778,8.836221609981749,1.8568177931078935,-5.263718407312979,4.455135507540135,-11.120870527360509,-17.845961636366695,11.28901045134127,-8.490685827903903,-12.48223694915444,-18.91542251316909,6.689165920576556,-12.83487666316475,-9.514883272849175,-4.720456572099792,2.712295915211051,-0.21908691376124523,-0.37159678930576945,-11.188433269369398,-12.151943362112604,7.791185849697243,-1.5155256848406822,1.9353416166806738,6.256505909439525,10.03447352923719,-7.329086948703363,5.695053694725871,-3.703493841951399,0.3984439058408782,6.745507636971382,2.353875888871272,12.133254492065078,10.953417370562846,-2.2443292290455616,-0.4163667998383289,-14.31624088890024,6.567773856509632,-2.128275103994497,-0.23393344936135918,10.599888730255415,22.139758744700856,0.0011673038598161156,13.954286447760339,-1.198744544697604,-21.30313456141708,-1.6307969786531942,20.2788314740626,0.44014204563929127,-13.074320090814894,10.480850085826305,3.8599912799969047,-2.7444514031638505,-0.36318588616438774,-13.63176658586876,10.534795041739173,0.1140106217173269,0.360063110403388,4.810095591888739,-16.84836235551424,13.702554570580944,11.279967370540845,-1.6690778974109293,14.623345483897793,34.396256441963125,-3.1604561452835114,10.16470162840777,23.468207379241605,0.7179478638080354,-12.104810870459445,8.356113651224916,-7.6175693548910175,-0.638688882411742,-25.750283362506366,-2.600960105291108,2.502981258706285,4.964561415257023,15.455038012196837,11.30588788324772,0.5069710342089877,-2.4535389583796956,12.00299231832689,-3.590077688925575,3.514177925980846,8.879213629595256,8.453960754986682,0.585207582007115,6.292225648523811,10.863033887504116,-4.882068915807423,11.71801680313429,8.451924687630836,3.19340013867118,-1.9372167235188726,10.445271548355208,5.721097321446074,-3.053203750487242,4.8374051944917085,-9.779791387893425,1.3851117923051248,-2.0268152786599956,-3.2708349748613585,12.766478662849593,6.106033213524711,-13.48146230540462,5.754495398225615,11.978758372815946,-9.036231883927996,1.880058612419731,8.506736607805024,7.9749395948662,10.027993830886587,13.271542211338854,19.9027150363777,-12.115053541303723,-7.285227536114419,-6.203074827324244,-10.283411015565378,9.578935138716076,7.860999576465943,2.9371377165569754,-1.6299087905247518,-3.3734009645136354,-2.5495692112560135,-4.31243208411648,-6.442925417196548,-9.004177957996873,-1.074294779968227,9.532713756974744,1.3300477978142595,-0.7098825127939818,14.72236169975129,8.099601369688557,-8.978790831909507,-6.057680026392262,5.836956151052064,17.693333540292443,-15.716013922158055,33.41864736778819,8.236355627543844,-11.731678387374203,-11.921011277433934,0.18059375186871307,6.10393494390685,-19.211317225951305,-7.1833074761249165,-7.420754377659776,3.434121613017666,6.121327535618221,12.238469421510018,-3.249472097247107,9.591251259355815,-7.770624643706398,12.618705329767707,-2.232775602548017,-4.099672949691893,-5.510610561544496,-9.59040778107429,-7.101891707713833,13.315462598680668,7.696132151171966,9.528048292038946,-0.10947546952766629,-2.713023765177965,-12.434631117128163,11.260436472138991,-0.3839464005541231,-13.061050552989386,8.680094488401124,9.566808325308656,-9.22105984245691,17.151521803765135,-0.14547488328517488,1.8976429607061078,5.78211993456199,8.072188152930792,-2.386526307683326,-9.741578996862827,10.81983742537794,-5.896512076646047,-2.7269769285021255,-13.529899414097244,-4.353898281936793,-9.778888362532399,5.345990887921104,-2.4969224426995282,8.438892846794047,9.086151939988198,11.816782192027134,7.775225617364953,2.5760680814555172,8.109802793909054,8.62435005255837,-11.228278104409583,17.47587442339467,18.07284040523615,1.6627882764514652,-0.8297927331628614,-17.159976186873905,-1.480531252943564,16.7473205082255,-4.445424913191928,-3.366143176631695,6.860008360422881,2.678111040360733,-1.8767404246921018,4.601420111054637,-0.6672060271149292,6.30493772195554,0.6009899576888955,13.804984727333917,5.975445385973472,-8.3263102305976,-6.376816584183501,-5.221339784342888,-0.5154896095926773,9.738949966136147,10.812995749798404,-5.969629960790627,-13.73551316183071,-7.050311171769863,10.13007472399012,5.85613823848324,-9.80222591775842,15.394409039867696,-13.427343034108517,3.811994525613116,2.251348126143398,-2.418864360591982,-7.071500471832465,6.881408722724061,-14.20395708497125,5.881675636863733,-5.878846731780541,-2.1783258243886934,14.316291906210608,5.391562317608631,-15.332470157189249,4.915420159579668,7.515611914097562,13.947433771724064,1.2546426295754856,9.852005477287292,-23.521236139653283,0.041929549993781734,3.522803376925424,-4.0026383563737795,2.5432516433952372,6.802060879139987,5.922086580691939,3.17134674264544,-0.05749897872813392,11.474846474709437,9.906956945972127,-16.639103723877724,3.0652936747168127,6.973889850713846,9.466829211314007,7.748262287730682,4.600355276743045,-0.777195638169843,-12.752310358075277,6.9486283219032146,-5.473143413901454,9.982416824584078,6.308418272860727,-6.941596735177399,-15.722472135791364,-10.790543339784264,-7.348773564361508,-0.3347468433141785,11.85832467617729,8.628475063079904,10.235756681655204,-1.0358508758634883,24.950883664915906,4.395437325173162,-5.469538790338206,-11.22799317330481,-0.0845101971127491,-2.5442882678839,-1.9482642616129056,13.563055853537435,15.784121631862945,17.8946433258548,0.4666689213221744,12.643730155059977,-7.454884939128021,3.854025755395,11.826492433165,-4.651707114850495,-5.043198740213228,-0.8034390507317255,3.040840410918719,6.939511803010149,-1.7876905393474516,-3.3274775077171057,10.945869573715214,-9.19112515471339,-11.007763485390697,0.6263795147607283,-10.481737530866653,-2.1249448919068357,-1.5172985276607562,-11.242009846260146,-9.879249258334028,-1.4925574003455182,4.2604076856352435,11.509667304279688,-3.9748471524187607,-3.1010094976386995,-9.918324153158366,2.390069227006009,2.8421136250957773,4.441158155292236,36.19783796216177,-2.1611817588850215,2.8134698238477114,9.73748021773305,-6.516271173062393,-6.935285456036169,-13.913583681759164,10.227469715330116,-14.281433471305661,-2.696711456941756,-4.667147055896109,14.980653465516,1.884071543374091,-14.535731350198702,9.336708584216439,5.784316330501284,-7.580877760995008,-9.159970997302239,9.15523305477194,-11.020035814522515,5.6670702002675455,3.2276393426848813,18.586390935985875,9.119634203845138,-1.1914826538659469,4.738004467715399,12.288335562810346,5.7042011806186395,1.7125080655775804,23.83209177402434,0.8274855763170876,0.9539058158617024,11.404067678821548,-0.8816445681767107,2.078419815438309,9.604699137949993,-7.983255973368259,-4.819049171585462,-18.1203160935258,4.247659596223002,-11.293999208261965,21.491159040317882,-9.859236556246486,-11.557080120474211,3.715170076475715,7.499265267156716,11.307984196381682,7.368433899748808,9.030411775800502,-4.133650611973096,15.74924419851952,2.8114863827145626,-4.616618266310553,-10.032418062504291,13.878857168826016,-11.296722788637084,-0.56889433672454,-4.514565021746606,-7.593695545733567,-1.1250378999295947,-3.8928535082091145,2.2662204280187837,10.526585633986485,7.435593867551617,-2.5056798232766653,-3.200202090363817,-0.6491898297791749,-7.349843220695789,-10.263423788678793,-4.648237446261703,15.459752190420602,10.947286251604282,3.1152389343894527,5.6202128616190805,1.2757272478584412,13.586502350742109,-14.923948926447906,6.10406502989494,-1.6192147921554891,4.709178915455581,7.859187487069647,-1.6680337955039874,-9.063690895129497,-11.741364366536843,-2.6606003816670665,4.199508383471581,-5.788919384974193,1.273959947359117,-0.46262559883892607,2.7893414708699993,-0.04386263054844619,15.884233008008948,7.279158211575734,3.9701922993189527,-22.20880537507368,-25.187557710130747,-7.312658178019802,-0.025007262798879992,10.337853557445172,-2.772559704196212,-5.204818966699506,15.176684104721659,-1.8074935544173627,3.553784278938224,3.185642473443636,-17.25852436533515,2.6465194069078137,19.95364517139761,-3.4932510170858677,3.476571548369037,-3.141583549659785,-5.549012710751143,-5.990345509576983,2.1303671972422435,2.669439073742481,-8.790795253450966,10.81374258450046,-4.072210608086493,3.659583372801592,11.580363750757044,-14.313413408031849,3.775139827490179,-7.543753475168174,-0.4142651554245731,-1.1351826762928283,2.6159973539297994,-4.130647055715244,4.7667436831805645,3.329801407128386,16.146008993179876,12.296102427572151,2.8614801982207894,-3.1625980684355994,-3.9614829129660905,-0.07497294582552172,-11.780885805530346,9.053306401892172,-8.582716961618289,-0.15660545827373085,-1.8051291607613962,4.532300450193475,-8.039107462720509,3.9717845480678733,-1.1188134316054317,10.616905986622328,1.1127194164732899,0.9638466167416055,22.521280862039504,-12.761550834445998,8.206669700434247,6.56210114402937,5.227772336157244,9.105905322497563,-13.768955498434039,0.11531683205377874,1.818547252338874,-11.788005046387127,-0.4939627652936167,10.318351847044426,-0.2808386812679373,5.909775517834703,5.446098652391711,9.266525850575064,6.703727934323311,11.069148888065897,-3.4184128580593978,1.5880586021070684,-10.863827896133685,-0.48710920300760563,-4.952883364727967,-23.607363656678515,-11.661230780155847,1.3096692396720186,-0.569938125686491,0.5685237680685304,-3.6191620357431447,-9.398554168041443,-8.917531118311302,-14.520668310389766,-9.869928575331045,9.94826411036955,8.654267999352001,-4.81348934734207,2.0365482017901684,-12.59542462445664,0.04853631367483047,1.048600774488321,-23.667199131640928,-7.805666759377473,-3.413612555263441,6.532996164535248,-3.710517825953687,-3.1256332454543525,10.401025121783547,2.8443726152002995,-7.3685360032751674,0.8051410686158249,3.764319314805263,13.090695227541104,1.065813157689817,9.179203782597483,-15.539243705674323,-18.630198301558764,11.46591583323324,-3.784363909536978,-0.424695381594546,-8.574819894457306,-4.1199522721327355,13.626686212006902,4.082727356655084,-0.7585815242828602,-0.6453998917351242,-9.737355097657684,0.6877727490507084,9.605955837733546,0.8224659275176833,-6.033615284822218,30.656638988676566,-14.419908424473874,7.7299606974336825,-12.827466544907907,7.879811513389242,15.53326917833877,-3.0575459414943253,-0.09363011371279129,2.783078786957418,0.38640936867787445,-10.205636279761052,2.2769140633967027,9.239883187506877,10.944199055719523,-7.8483288838096,11.197188512705281,9.64328145689258,6.9324136110692365,9.57568517660205,6.744216367648235,3.903678917595883,-1.6294901149680499,-1.7337150875661393,-6.890044759733172,3.5914901749055588,-1.3540706351835325,7.501004053770885,-11.131325231004169,-7.270812148008062,-0.8658599875441695,7.247089949616793,-5.257506225537128,0.07311538001322049,11.976732702354013,5.184048550240405,0.19750955301971374,19.352308717982112,4.583073694610164,-9.39123560216619,-8.56497998679238,-9.52706615561435,0.18944706455272353,20.5893055865712,5.96205051424441,18.541499123422014,-0.7415419158186154,5.49658286299524,11.184674237582684,1.447071691764208,0.6974548700430319,9.552720672857575,-1.970873728644733,4.931068821950689,6.510440853614043,-2.289275421065412,-4.974109858044216,9.30129976664773,15.501593650086235,-3.5163031923952275,17.653378060882773,-8.131015189921584,-2.044084329697185,0.3276007773875236,-14.223520192670563,-6.008387766136096,13.121353864036507,-9.661023290369002,-5.815728582452053,6.485441658827142,12.920280918607375,-13.06896254138259,4.632727194119596,-0.6869906868178788,-0.06042468732572104,-13.119668250305047,-0.7739446000784511,8.637673002852587,8.705401405466091,11.363263565341782,-0.22260742035859948,1.3012825610624361,-0.8235743407620078,13.681563866986963,-0.15325316912048947,12.865730325222614,7.7799060566030676,-0.716158946409891,8.008030375220628,-10.162986556950614,2.9688881155029634,1.919476516986336,-7.381886202777238,16.294560582468186,16.21914612549874,-2.0591838260082937,1.671125247283996,-6.506291006735665,8.417930049440798,9.251496028967622,0.11015492608166255,-10.516107232285094,-7.661986664771831,-8.932932888390965,6.8659949433389755,6.200906687793449,1.1495703284124943,0.7727291347407004,-9.177684533638313,10.86937034267335,-0.40337838761028877,6.191373713033485,-14.90752198888336,5.874066271761933,-10.326990071753642,1.0141214980420017,0.7316989990260367,-17.70521499326216,-10.3209253083632,-19.26531926772688,14.527080125049068,-0.6142179223081143,-5.61954228404781,-9.129518407404547,13.467779806806519,-18.47988103251045,-1.71037296535782,-0.6323140453576173,13.307138367873733,5.338355218193527,-10.830417232615147,-11.84396982662254,14.000779923961858,18.017523169831662,-18.73765761385954,0.1930819343993022,-3.6336685742665935,-2.5635811359063183,-3.4881082580407963,9.133141146113346,23.196742389583804,-7.571777906245742,3.1947133726622354,-6.313886526028,12.86720467050091,3.6190718647745115,-20.207337272609465,3.515656389906553,7.912997912904231,14.248626633413949,9.671990818333164,2.6892050831199583,-4.634866348202252,-8.148138581968638,-4.631288392644308,-12.05427059393864,-25.775650164565846,-10.351761198124052,17.139263008445965,2.4006902790237064,-14.181833606731288,1.1010844157843422,-0.023053108675995304,-24.976659327015298,8.782369889568919,8.197321215654569,-4.656658825862991,3.3946325726262643,-1.307795720269084,-6.588282956153165,-9.532921627277425,-17.0875303058764,-15.200354201888274,4.03967484046143,3.807821691401969,-8.43374187159786,-13.175881891790539,-7.3345402912151485,7.333869413749682,2.134875709882749,10.187019395265253,3.9447795421775567,3.3832638487817235,-15.017935252352444,3.2460493959012666,-10.133360858702375,-1.3654957266043652,-5.729035333263823,-0.48775148030574655,26.57703922488433,2.273321717511891,-13.259226109479428,12.577633618982276,16.285886658270257,5.910579711832625,-2.1983263955686,11.191913758620302,17.21294940821184,3.5068902652527925,-9.749294679135062,11.810323230740181,-6.616095374090719,-6.184619157229335,0.2815320790326865,-4.950614692504345,0.3117079612290894,-9.582918053123038,2.2822466870073583,-8.811069329565271,-0.40301968409379185,-22.8122621144647,8.754789771860558,-17.846382326668106,-7.7205691422454095,1.5823828585391055,2.5769946893558995,-14.688773711435715,-6.862851330667084,-6.2264471898815685,-1.5019574213187923,-3.3508505739482217,6.202177645913636,8.475349922571354,5.225091704787289,2.801127267299478,-2.797651680212354,-19.855729736149357,2.489744615589501,-11.332492901892778,27.767194604237915,-16.308729652234646,8.792161466425213,5.99987369094697,-12.399704034811194,29.039742164710994,-1.6665527353132887,12.9127544408665,-4.474194439511706,-15.656426365509404,2.297264929703104,11.200452851985816,-12.557840098320966,11.128760577543098,-14.861995516603372,9.064481113212693,-3.117903306030229,21.556486961246875,5.342516906848843,7.031638398930895,9.216357199883035,24.036768923709275,6.558304662577328,-1.2311794271286374,6.5443141906525,4.621973231215904,0.9876576942214541,-2.2438961606829793,1.4092941929011005,7.824094050916088,-17.593182444382876,-13.958037874380906,0.729231558153927,-3.1829152081283496,4.636397281354192,5.0805251795915325,-10.824427691036973,-7.333452691146476,-3.799619217490118,-3.5372766084459784,-4.729246369069827,6.353522418211696,-19.511134470658646,-4.542198840812418,4.543304038096167,5.034614826121086,6.31154762247337,-21.984915779967864,3.0192241471707604,-11.093231487882278,10.020620298004133,7.195218190381681,14.324958625539892,-0.3398758648310718,-13.948669707821907,11.731638689883766,5.516102502515707,8.799567308923244,-7.762928555117995,1.292540571217529,-2.7260864379078384,13.012642200919345,-11.661529546608051,-6.283161940703565,1.5630298772240252,-4.862637676224097,-17.507737604420697,8.677310940484332,4.905879951415741,20.389622412895392,14.522201808203477,-11.914385914253842,-2.717176647279743,-5.887217159729644,-8.401346127686068,2.0589807805266958,-4.0447826723889335,6.042640371927078,-6.811135598872312,3.22863162354399,1.1714659805112433,4.127625964940194,-12.28129695837157,6.676500933074266,8.841390943225832,7.441257825096386,8.427706813488314,-18.438104963572798,6.235090777326008,1.65179390917055,9.046672587524256,16.797709759187285,6.741825306562035,12.051892399446729,5.1893332589552585,-4.134167667584364,13.826229992630289,0.24667933474158588,13.165285842620122,5.444914621494107,1.041895224975633,-5.989165757474183,-4.037831874692742,-3.920765041981568,-3.0700197515522376,-1.5487648550464712,-5.169810586865339,12.82366973680395,-6.708257783631012,14.676688087508467,-9.143354333431645,13.640918736091336,-4.968383736869811,17.03603191366804,-5.378447064737756,-15.247208021443285,-1.5309296082965886,-20.09874838242922,-19.199428279016274,2.037656806676722,-10.389162456356615,4.3470906369894635,-5.365232009539241,0.4828323171116864,14.509254401800675,3.981330295785156,4.049701156110984,13.403078935052008,-3.998969877035634,-0.8753685640898397,1.1258694324851888,-6.9850058967575706,-2.3354259150147954,4.822138487330307,-0.5643759656344116,-6.226830014731178,1.1106240505500722,6.2466634129364635,-32.67074732296345,-1.7951908871064859],\"xaxis\":\"x\",\"yaxis\":\"y\",\"type\":\"histogram\"}],                        {\"template\":{\"data\":{\"histogram2dcontour\":[{\"type\":\"histogram2dcontour\",\"colorbar\":{\"outlinewidth\":0,\"ticks\":\"\"},\"colorscale\":[[0.0,\"#0d0887\"],[0.1111111111111111,\"#46039f\"],[0.2222222222222222,\"#7201a8\"],[0.3333333333333333,\"#9c179e\"],[0.4444444444444444,\"#bd3786\"],[0.5555555555555556,\"#d8576b\"],[0.6666666666666666,\"#ed7953\"],[0.7777777777777778,\"#fb9f3a\"],[0.8888888888888888,\"#fdca26\"],[1.0,\"#f0f921\"]]}],\"choropleth\":[{\"type\":\"choropleth\",\"colorbar\":{\"outlinewidth\":0,\"ticks\":\"\"}}],\"histogram2d\":[{\"type\":\"histogram2d\",\"colorbar\":{\"outlinewidth\":0,\"ticks\":\"\"},\"colorscale\":[[0.0,\"#0d0887\"],[0.1111111111111111,\"#46039f\"],[0.2222222222222222,\"#7201a8\"],[0.3333333333333333,\"#9c179e\"],[0.4444444444444444,\"#bd3786\"],[0.5555555555555556,\"#d8576b\"],[0.6666666666666666,\"#ed7953\"],[0.7777777777777778,\"#fb9f3a\"],[0.8888888888888888,\"#fdca26\"],[1.0,\"#f0f921\"]]}],\"heatmap\":[{\"type\":\"heatmap\",\"colorbar\":{\"outlinewidth\":0,\"ticks\":\"\"},\"colorscale\":[[0.0,\"#0d0887\"],[0.1111111111111111,\"#46039f\"],[0.2222222222222222,\"#7201a8\"],[0.3333333333333333,\"#9c179e\"],[0.4444444444444444,\"#bd3786\"],[0.5555555555555556,\"#d8576b\"],[0.6666666666666666,\"#ed7953\"],[0.7777777777777778,\"#fb9f3a\"],[0.8888888888888888,\"#fdca26\"],[1.0,\"#f0f921\"]]}],\"heatmapgl\":[{\"type\":\"heatmapgl\",\"colorbar\":{\"outlinewidth\":0,\"ticks\":\"\"},\"colorscale\":[[0.0,\"#0d0887\"],[0.1111111111111111,\"#46039f\"],[0.2222222222222222,\"#7201a8\"],[0.3333333333333333,\"#9c179e\"],[0.4444444444444444,\"#bd3786\"],[0.5555555555555556,\"#d8576b\"],[0.6666666666666666,\"#ed7953\"],[0.7777777777777778,\"#fb9f3a\"],[0.8888888888888888,\"#fdca26\"],[1.0,\"#f0f921\"]]}],\"contourcarpet\":[{\"type\":\"contourcarpet\",\"colorbar\":{\"outlinewidth\":0,\"ticks\":\"\"}}],\"contour\":[{\"type\":\"contour\",\"colorbar\":{\"outlinewidth\":0,\"ticks\":\"\"},\"colorscale\":[[0.0,\"#0d0887\"],[0.1111111111111111,\"#46039f\"],[0.2222222222222222,\"#7201a8\"],[0.3333333333333333,\"#9c179e\"],[0.4444444444444444,\"#bd3786\"],[0.5555555555555556,\"#d8576b\"],[0.6666666666666666,\"#ed7953\"],[0.7777777777777778,\"#fb9f3a\"],[0.8888888888888888,\"#fdca26\"],[1.0,\"#f0f921\"]]}],\"surface\":[{\"type\":\"surface\",\"colorbar\":{\"outlinewidth\":0,\"ticks\":\"\"},\"colorscale\":[[0.0,\"#0d0887\"],[0.1111111111111111,\"#46039f\"],[0.2222222222222222,\"#7201a8\"],[0.3333333333333333,\"#9c179e\"],[0.4444444444444444,\"#bd3786\"],[0.5555555555555556,\"#d8576b\"],[0.6666666666666666,\"#ed7953\"],[0.7777777777777778,\"#fb9f3a\"],[0.8888888888888888,\"#fdca26\"],[1.0,\"#f0f921\"]]}],\"mesh3d\":[{\"type\":\"mesh3d\",\"colorbar\":{\"outlinewidth\":0,\"ticks\":\"\"}}],\"scatter\":[{\"fillpattern\":{\"fillmode\":\"overlay\",\"size\":10,\"solidity\":0.2},\"type\":\"scatter\"}],\"parcoords\":[{\"type\":\"parcoords\",\"line\":{\"colorbar\":{\"outlinewidth\":0,\"ticks\":\"\"}}}],\"scatterpolargl\":[{\"type\":\"scatterpolargl\",\"marker\":{\"colorbar\":{\"outlinewidth\":0,\"ticks\":\"\"}}}],\"bar\":[{\"error_x\":{\"color\":\"#2a3f5f\"},\"error_y\":{\"color\":\"#2a3f5f\"},\"marker\":{\"line\":{\"color\":\"#E5ECF6\",\"width\":0.5},\"pattern\":{\"fillmode\":\"overlay\",\"size\":10,\"solidity\":0.2}},\"type\":\"bar\"}],\"scattergeo\":[{\"type\":\"scattergeo\",\"marker\":{\"colorbar\":{\"outlinewidth\":0,\"ticks\":\"\"}}}],\"scatterpolar\":[{\"type\":\"scatterpolar\",\"marker\":{\"colorbar\":{\"outlinewidth\":0,\"ticks\":\"\"}}}],\"histogram\":[{\"marker\":{\"pattern\":{\"fillmode\":\"overlay\",\"size\":10,\"solidity\":0.2}},\"type\":\"histogram\"}],\"scattergl\":[{\"type\":\"scattergl\",\"marker\":{\"colorbar\":{\"outlinewidth\":0,\"ticks\":\"\"}}}],\"scatter3d\":[{\"type\":\"scatter3d\",\"line\":{\"colorbar\":{\"outlinewidth\":0,\"ticks\":\"\"}},\"marker\":{\"colorbar\":{\"outlinewidth\":0,\"ticks\":\"\"}}}],\"scattermapbox\":[{\"type\":\"scattermapbox\",\"marker\":{\"colorbar\":{\"outlinewidth\":0,\"ticks\":\"\"}}}],\"scatterternary\":[{\"type\":\"scatterternary\",\"marker\":{\"colorbar\":{\"outlinewidth\":0,\"ticks\":\"\"}}}],\"scattercarpet\":[{\"type\":\"scattercarpet\",\"marker\":{\"colorbar\":{\"outlinewidth\":0,\"ticks\":\"\"}}}],\"carpet\":[{\"aaxis\":{\"endlinecolor\":\"#2a3f5f\",\"gridcolor\":\"white\",\"linecolor\":\"white\",\"minorgridcolor\":\"white\",\"startlinecolor\":\"#2a3f5f\"},\"baxis\":{\"endlinecolor\":\"#2a3f5f\",\"gridcolor\":\"white\",\"linecolor\":\"white\",\"minorgridcolor\":\"white\",\"startlinecolor\":\"#2a3f5f\"},\"type\":\"carpet\"}],\"table\":[{\"cells\":{\"fill\":{\"color\":\"#EBF0F8\"},\"line\":{\"color\":\"white\"}},\"header\":{\"fill\":{\"color\":\"#C8D4E3\"},\"line\":{\"color\":\"white\"}},\"type\":\"table\"}],\"barpolar\":[{\"marker\":{\"line\":{\"color\":\"#E5ECF6\",\"width\":0.5},\"pattern\":{\"fillmode\":\"overlay\",\"size\":10,\"solidity\":0.2}},\"type\":\"barpolar\"}],\"pie\":[{\"automargin\":true,\"type\":\"pie\"}]},\"layout\":{\"autotypenumbers\":\"strict\",\"colorway\":[\"#636efa\",\"#EF553B\",\"#00cc96\",\"#ab63fa\",\"#FFA15A\",\"#19d3f3\",\"#FF6692\",\"#B6E880\",\"#FF97FF\",\"#FECB52\"],\"font\":{\"color\":\"#2a3f5f\"},\"hovermode\":\"closest\",\"hoverlabel\":{\"align\":\"left\"},\"paper_bgcolor\":\"white\",\"plot_bgcolor\":\"#E5ECF6\",\"polar\":{\"bgcolor\":\"#E5ECF6\",\"angularaxis\":{\"gridcolor\":\"white\",\"linecolor\":\"white\",\"ticks\":\"\"},\"radialaxis\":{\"gridcolor\":\"white\",\"linecolor\":\"white\",\"ticks\":\"\"}},\"ternary\":{\"bgcolor\":\"#E5ECF6\",\"aaxis\":{\"gridcolor\":\"white\",\"linecolor\":\"white\",\"ticks\":\"\"},\"baxis\":{\"gridcolor\":\"white\",\"linecolor\":\"white\",\"ticks\":\"\"},\"caxis\":{\"gridcolor\":\"white\",\"linecolor\":\"white\",\"ticks\":\"\"}},\"coloraxis\":{\"colorbar\":{\"outlinewidth\":0,\"ticks\":\"\"}},\"colorscale\":{\"sequential\":[[0.0,\"#0d0887\"],[0.1111111111111111,\"#46039f\"],[0.2222222222222222,\"#7201a8\"],[0.3333333333333333,\"#9c179e\"],[0.4444444444444444,\"#bd3786\"],[0.5555555555555556,\"#d8576b\"],[0.6666666666666666,\"#ed7953\"],[0.7777777777777778,\"#fb9f3a\"],[0.8888888888888888,\"#fdca26\"],[1.0,\"#f0f921\"]],\"sequentialminus\":[[0.0,\"#0d0887\"],[0.1111111111111111,\"#46039f\"],[0.2222222222222222,\"#7201a8\"],[0.3333333333333333,\"#9c179e\"],[0.4444444444444444,\"#bd3786\"],[0.5555555555555556,\"#d8576b\"],[0.6666666666666666,\"#ed7953\"],[0.7777777777777778,\"#fb9f3a\"],[0.8888888888888888,\"#fdca26\"],[1.0,\"#f0f921\"]],\"diverging\":[[0,\"#8e0152\"],[0.1,\"#c51b7d\"],[0.2,\"#de77ae\"],[0.3,\"#f1b6da\"],[0.4,\"#fde0ef\"],[0.5,\"#f7f7f7\"],[0.6,\"#e6f5d0\"],[0.7,\"#b8e186\"],[0.8,\"#7fbc41\"],[0.9,\"#4d9221\"],[1,\"#276419\"]]},\"xaxis\":{\"gridcolor\":\"white\",\"linecolor\":\"white\",\"ticks\":\"\",\"title\":{\"standoff\":15},\"zerolinecolor\":\"white\",\"automargin\":true,\"zerolinewidth\":2},\"yaxis\":{\"gridcolor\":\"white\",\"linecolor\":\"white\",\"ticks\":\"\",\"title\":{\"standoff\":15},\"zerolinecolor\":\"white\",\"automargin\":true,\"zerolinewidth\":2},\"scene\":{\"xaxis\":{\"backgroundcolor\":\"#E5ECF6\",\"gridcolor\":\"white\",\"linecolor\":\"white\",\"showbackground\":true,\"ticks\":\"\",\"zerolinecolor\":\"white\",\"gridwidth\":2},\"yaxis\":{\"backgroundcolor\":\"#E5ECF6\",\"gridcolor\":\"white\",\"linecolor\":\"white\",\"showbackground\":true,\"ticks\":\"\",\"zerolinecolor\":\"white\",\"gridwidth\":2},\"zaxis\":{\"backgroundcolor\":\"#E5ECF6\",\"gridcolor\":\"white\",\"linecolor\":\"white\",\"showbackground\":true,\"ticks\":\"\",\"zerolinecolor\":\"white\",\"gridwidth\":2}},\"shapedefaults\":{\"line\":{\"color\":\"#2a3f5f\"}},\"annotationdefaults\":{\"arrowcolor\":\"#2a3f5f\",\"arrowhead\":0,\"arrowwidth\":1},\"geo\":{\"bgcolor\":\"white\",\"landcolor\":\"#E5ECF6\",\"subunitcolor\":\"white\",\"showland\":true,\"showlakes\":true,\"lakecolor\":\"white\"},\"title\":{\"x\":0.05},\"mapbox\":{\"style\":\"light\"}}},\"xaxis\":{\"anchor\":\"y\",\"domain\":[0.0,1.0],\"title\":{\"text\":\"error\"}},\"yaxis\":{\"anchor\":\"x\",\"domain\":[0.0,1.0],\"title\":{\"text\":\"count\"}},\"legend\":{\"tracegroupgap\":0},\"margin\":{\"t\":60},\"barmode\":\"relative\",\"width\":800},                        {\"responsive\": true}                    ).then(function(){\n",
              "                            \n",
              "var gd = document.getElementById('48af4d1f-4b87-478d-89ee-04bcb9b5fec4');\n",
              "var x = new MutationObserver(function (mutations, observer) {{\n",
              "        var display = window.getComputedStyle(gd).display;\n",
              "        if (!display || display === 'none') {{\n",
              "            console.log([gd, 'removed!']);\n",
              "            Plotly.purge(gd);\n",
              "            observer.disconnect();\n",
              "        }}\n",
              "}});\n",
              "\n",
              "// Listen for the removal of the full notebook cells\n",
              "var notebookContainer = gd.closest('#notebook-container');\n",
              "if (notebookContainer) {{\n",
              "    x.observe(notebookContainer, {childList: true});\n",
              "}}\n",
              "\n",
              "// Listen for the clearing of the current output cell\n",
              "var outputEl = gd.closest('.output');\n",
              "if (outputEl) {{\n",
              "    x.observe(outputEl, {childList: true});\n",
              "}}\n",
              "\n",
              "                        })                };                            </script>        </div>\n",
              "</body>\n",
              "</html>"
            ]
          },
          "metadata": {}
        }
      ]
    },
    {
      "cell_type": "markdown",
      "source": [
        "### <a name='a3'></a> Mean Absolute Error - Średni błąd bezwzględny\n",
        "### $$MAE = \\frac{1}{n}\\sum_{i=1}^{n}|y_{true} - y_{pred}|$$"
      ],
      "metadata": {
        "id": "KyfYsr7DS4Ns"
      }
    },
    {
      "cell_type": "code",
      "source": [
        "def mean_absolute_error(y_true, y_pred):\n",
        "    return abs(y_true - y_pred).sum() / len(y_true)\n",
        "\n",
        "mean_absolute_error(y_true, y_pred)"
      ],
      "metadata": {
        "colab": {
          "base_uri": "https://localhost:8080/"
        },
        "id": "NmWE0I1_SLtL",
        "outputId": "0cc3b060-e98f-4fdd-e16e-5fa2c29d5c8c"
      },
      "execution_count": null,
      "outputs": [
        {
          "output_type": "execute_result",
          "data": {
            "text/plain": [
              "7.663291695756444"
            ]
          },
          "metadata": {},
          "execution_count": 21
        }
      ]
    },
    {
      "cell_type": "code",
      "source": [
        "# gotowa funkcja w sklearn\n",
        "from sklearn.metrics import mean_absolute_error\n",
        "mean_absolute_error(y_true, y_pred)"
      ],
      "metadata": {
        "colab": {
          "base_uri": "https://localhost:8080/"
        },
        "id": "Mr4T13nFTVn-",
        "outputId": "3603964e-e7a0-4cef-a97f-c99e174a386c"
      },
      "execution_count": null,
      "outputs": [
        {
          "output_type": "execute_result",
          "data": {
            "text/plain": [
              "7.663291695756444"
            ]
          },
          "metadata": {},
          "execution_count": 20
        }
      ]
    },
    {
      "cell_type": "markdown",
      "source": [
        "### <a name='a4'></a> Mean Squared Error - MSE - Błąd średniokwadratowy\n",
        "### $$MSE = \\frac{1}{n}\\sum_{i=1}^{n}(y_{true} - y_{pred})^{2}$$"
      ],
      "metadata": {
        "id": "or4GVrKXTxoa"
      }
    },
    {
      "cell_type": "code",
      "source": [
        "def mean_squared_error(y_true, y_pred):\n",
        "    return ((y_true - y_pred) ** 2).sum() / len(y_true)\n",
        "\n",
        "mean_squared_error(y_true, y_pred)"
      ],
      "metadata": {
        "colab": {
          "base_uri": "https://localhost:8080/"
        },
        "id": "mqmrXlt9Tgda",
        "outputId": "b6f5590f-36b1-46b7-ff2f-43f214e2cedf"
      },
      "execution_count": null,
      "outputs": [
        {
          "output_type": "execute_result",
          "data": {
            "text/plain": [
              "94.2897970140221"
            ]
          },
          "metadata": {},
          "execution_count": 22
        }
      ]
    },
    {
      "cell_type": "code",
      "source": [
        "# gotowa funkcja w bibliotece\n",
        "from sklearn.metrics import mean_squared_error\n",
        "\n",
        "mean_squared_error(y_true, y_pred)"
      ],
      "metadata": {
        "colab": {
          "base_uri": "https://localhost:8080/"
        },
        "id": "csmtOKyxT0jj",
        "outputId": "f63b9ac9-8897-4f88-b17c-0fe200f57bc2"
      },
      "execution_count": null,
      "outputs": [
        {
          "output_type": "execute_result",
          "data": {
            "text/plain": [
              "94.2897970140221"
            ]
          },
          "metadata": {},
          "execution_count": 23
        }
      ]
    },
    {
      "cell_type": "markdown",
      "source": [
        "### <a name='a5'></a> Root Mean Squared Error - RMSE - Pierwiastek błędu średniokwadratowego\n",
        "### $$RMSE = \\sqrt{MSE}$$"
      ],
      "metadata": {
        "id": "-UdYaWbtT8Cf"
      }
    },
    {
      "cell_type": "code",
      "source": [
        "def root_mean_squared_error(y_true, y_pred):\n",
        "    return np.sqrt(((y_true - y_pred) ** 2).sum() / len(y_true))\n",
        "\n",
        "root_mean_squared_error(y_true, y_pred)"
      ],
      "metadata": {
        "colab": {
          "base_uri": "https://localhost:8080/"
        },
        "id": "v2Uhyk2IT2-X",
        "outputId": "bab7e5db-5951-4062-c742-13509d250130"
      },
      "execution_count": null,
      "outputs": [
        {
          "output_type": "execute_result",
          "data": {
            "text/plain": [
              "9.71029335365426"
            ]
          },
          "metadata": {},
          "execution_count": 24
        }
      ]
    },
    {
      "cell_type": "code",
      "source": [
        "np.sqrt(mean_squared_error(y_true, y_pred))"
      ],
      "metadata": {
        "colab": {
          "base_uri": "https://localhost:8080/"
        },
        "id": "_wn4OO9BUCIo",
        "outputId": "4efbff64-05be-45a1-cfbd-30ac9e8845a6"
      },
      "execution_count": null,
      "outputs": [
        {
          "output_type": "execute_result",
          "data": {
            "text/plain": [
              "9.71029335365426"
            ]
          },
          "metadata": {},
          "execution_count": 25
        }
      ]
    },
    {
      "cell_type": "markdown",
      "source": [
        "### <a name='a6'></a>  Max Error - Błąd maksymalny\n",
        "\n",
        "$$ME = max(|y\\_true - y\\_pred|)$$"
      ],
      "metadata": {
        "id": "3kRB6VKyUI1_"
      }
    },
    {
      "cell_type": "code",
      "source": [
        "def max_error(y_true, y_pred):\n",
        "    return abs(y_true - y_pred).max()\n",
        "\n",
        "max_error(y_true, y_pred)"
      ],
      "metadata": {
        "colab": {
          "base_uri": "https://localhost:8080/"
        },
        "id": "NDWmjvOeUENU",
        "outputId": "ab4bed3f-d177-487f-869a-a30ea0625250"
      },
      "execution_count": null,
      "outputs": [
        {
          "output_type": "execute_result",
          "data": {
            "text/plain": [
              "36.19783796216177"
            ]
          },
          "metadata": {},
          "execution_count": 27
        }
      ]
    },
    {
      "cell_type": "code",
      "source": [
        "from sklearn.metrics import max_error\n",
        "\n",
        "max_error(y_true, y_pred)"
      ],
      "metadata": {
        "colab": {
          "base_uri": "https://localhost:8080/"
        },
        "id": "MvLoGcoYULHS",
        "outputId": "87df6151-8cc6-487e-d537-cf57fd2ea1a0"
      },
      "execution_count": null,
      "outputs": [
        {
          "output_type": "execute_result",
          "data": {
            "text/plain": [
              "36.19783796216177"
            ]
          },
          "metadata": {},
          "execution_count": 28
        }
      ]
    },
    {
      "cell_type": "markdown",
      "source": [
        "### <a name='a7'></a>  R2 score - współczynnik determinacji\n",
        "### $$R2\\_score = 1 - \\frac{\\sum_{i=1}^{N}(y_{true} - y_{pred})^{2}}{\\sum_{i=1}^{N}(y_{true} - \\overline{y_{true}})^{2}}$$"
      ],
      "metadata": {
        "id": "iW5SoZQsUtMC"
      }
    },
    {
      "cell_type": "code",
      "source": [
        "from sklearn.metrics import r2_score\n",
        "# chcemy zeby bylo jak najblizej 1\n",
        "r2_score(y_true, y_pred)"
      ],
      "metadata": {
        "colab": {
          "base_uri": "https://localhost:8080/"
        },
        "id": "kPjFtSkGUVsx",
        "outputId": "2a0f4dd7-e2cd-4c0f-fd35-efc4c6bc6649"
      },
      "execution_count": null,
      "outputs": [
        {
          "output_type": "execute_result",
          "data": {
            "text/plain": [
              "0.7683471978508527"
            ]
          },
          "metadata": {},
          "execution_count": 31
        }
      ]
    },
    {
      "cell_type": "code",
      "source": [
        "def r2_score(y_true, y_pred):\n",
        "    numerator = ((y_true - y_pred) ** 2).sum()\n",
        "    denominator = ((y_true - y_true.mean()) ** 2).sum()\n",
        "    try:\n",
        "        r2 = 1 - numerator / denominator\n",
        "    except ZeroDivisionError:\n",
        "        print('Dzielenie przez zero')\n",
        "    return r2\n",
        "\n",
        "r2_score(y_true, y_pred)"
      ],
      "metadata": {
        "colab": {
          "base_uri": "https://localhost:8080/"
        },
        "id": "vaxzgd1NUwv2",
        "outputId": "cd492035-3707-481f-b952-ed7a4587951b"
      },
      "execution_count": null,
      "outputs": [
        {
          "output_type": "execute_result",
          "data": {
            "text/plain": [
              "0.7683471978508527"
            ]
          },
          "metadata": {},
          "execution_count": 30
        }
      ]
    },
    {
      "cell_type": "code",
      "source": [],
      "metadata": {
        "id": "IuIRgPDCU2yl"
      },
      "execution_count": null,
      "outputs": []
    }
  ]
}