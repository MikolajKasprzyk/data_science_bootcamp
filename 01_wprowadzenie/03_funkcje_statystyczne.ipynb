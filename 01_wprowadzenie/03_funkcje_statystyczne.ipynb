{
  "nbformat": 4,
  "nbformat_minor": 0,
  "metadata": {
    "colab": {
      "provenance": [],
      "authorship_tag": "ABX9TyM8R4AOWo0TCGD1Dn7ZsXAh",
      "include_colab_link": true
    },
    "kernelspec": {
      "name": "python3",
      "display_name": "Python 3"
    },
    "language_info": {
      "name": "python"
    }
  },
  "cells": [
    {
      "cell_type": "markdown",
      "metadata": {
        "id": "view-in-github",
        "colab_type": "text"
      },
      "source": [
        "<a href=\"https://colab.research.google.com/github/MikolajKasprzyk/data_science_bootcamp/blob/main/01_wprowadzenie/03_funkcje_statystyczne.ipynb\" target=\"_parent\"><img src=\"https://colab.research.google.com/assets/colab-badge.svg\" alt=\"Open In Colab\"/></a>"
      ]
    },
    {
      "cell_type": "code",
      "execution_count": 1,
      "metadata": {
        "id": "fpelk6BrKOLm"
      },
      "outputs": [],
      "source": [
        "import numpy as np"
      ]
    },
    {
      "cell_type": "code",
      "source": [
        "price = np.array([[12.40, 12.80, 11.90, 12.60, 1000],\n",
        "                  [12.50, 13.00, 11.70, 12.20, 2000],\n",
        "                  [12.20, 13.40, 12.20, 13.20, 1500]])\n",
        "print(price)"
      ],
      "metadata": {
        "colab": {
          "base_uri": "https://localhost:8080/"
        },
        "id": "-RPwaqrjLs7n",
        "outputId": "61a941e0-1213-416d-c50b-683d28c42969"
      },
      "execution_count": 2,
      "outputs": [
        {
          "output_type": "stream",
          "name": "stdout",
          "text": [
            "[[  12.4   12.8   11.9   12.6 1000. ]\n",
            " [  12.5   13.    11.7   12.2 2000. ]\n",
            " [  12.2   13.4   12.2   13.2 1500. ]]\n"
          ]
        }
      ]
    },
    {
      "cell_type": "markdown",
      "source": [
        "sum()"
      ],
      "metadata": {
        "id": "VBEjEIZyMCmO"
      }
    },
    {
      "cell_type": "code",
      "source": [
        "price(sum) # suma wszystkich elementów w tablicy - mało przydatne"
      ],
      "metadata": {
        "id": "YkKQRySCL-ar"
      },
      "execution_count": null,
      "outputs": []
    },
    {
      "cell_type": "code",
      "source": [
        "price.sum(axis=0) #sumowanie po kolumnach najczęsciej \n",
        "price.sum(axis=10) #sumowanie po wierszach"
      ],
      "metadata": {
        "id": "LY9oH75MML7c"
      },
      "execution_count": null,
      "outputs": []
    },
    {
      "cell_type": "code",
      "source": [
        "np.sum(price, axis=0) #możemy to wywołać też w taki sposób"
      ],
      "metadata": {
        "colab": {
          "base_uri": "https://localhost:8080/"
        },
        "id": "sXj0YyTPMpvy",
        "outputId": "66d3feca-df0b-483b-c5a3-c5deef4a461e"
      },
      "execution_count": 4,
      "outputs": [
        {
          "output_type": "execute_result",
          "data": {
            "text/plain": [
              "array([  37.1,   39.2,   35.8,   38. , 4500. ])"
            ]
          },
          "metadata": {},
          "execution_count": 4
        }
      ]
    },
    {
      "cell_type": "markdown",
      "source": [
        "min()"
      ],
      "metadata": {
        "id": "XLv6oqXVM2z0"
      }
    },
    {
      "cell_type": "code",
      "source": [
        "np.min(price, axis=0)\n",
        "#osie działają analogicznie jak w sum()"
      ],
      "metadata": {
        "colab": {
          "base_uri": "https://localhost:8080/"
        },
        "id": "KCS8HF1ZMsbW",
        "outputId": "68727e4a-d987-4556-9da6-046b25dc5d11"
      },
      "execution_count": 5,
      "outputs": [
        {
          "output_type": "execute_result",
          "data": {
            "text/plain": [
              "array([  12.2,   12.8,   11.7,   12.2, 1000. ])"
            ]
          },
          "metadata": {},
          "execution_count": 5
        }
      ]
    },
    {
      "cell_type": "markdown",
      "source": [
        "max()"
      ],
      "metadata": {
        "id": "8gz7tWr9NE1_"
      }
    },
    {
      "cell_type": "code",
      "source": [
        "np.max(price, axis=0)\n",
        "#osie działają analogicznie jak w sum()"
      ],
      "metadata": {
        "id": "lH924rQdM_vX"
      },
      "execution_count": null,
      "outputs": []
    },
    {
      "cell_type": "markdown",
      "source": [
        "median()"
      ],
      "metadata": {
        "id": "1d4QmCK2NLuT"
      }
    },
    {
      "cell_type": "code",
      "source": [
        "np.median(price, axis=1)\n",
        "#osie działają analogicznie jak w sum()"
      ],
      "metadata": {
        "colab": {
          "base_uri": "https://localhost:8080/"
        },
        "id": "a62J6FuFNPRU",
        "outputId": "5638b3d7-a855-4648-a1e1-947b31923610"
      },
      "execution_count": 8,
      "outputs": [
        {
          "output_type": "execute_result",
          "data": {
            "text/plain": [
              "array([12.6, 12.5, 13.2])"
            ]
          },
          "metadata": {},
          "execution_count": 8
        }
      ]
    },
    {
      "cell_type": "markdown",
      "source": [
        "mean()"
      ],
      "metadata": {
        "id": "BbV9GA0cNbz8"
      }
    },
    {
      "cell_type": "code",
      "source": [
        "np.mean(price, axis=0)\n",
        "#osie działają analogicznie jak w sum()"
      ],
      "metadata": {
        "colab": {
          "base_uri": "https://localhost:8080/"
        },
        "id": "I9sv_X46NRnE",
        "outputId": "0127204d-0b89-4817-e513-205f910f555d"
      },
      "execution_count": 11,
      "outputs": [
        {
          "output_type": "execute_result",
          "data": {
            "text/plain": [
              "array([209.94, 409.88, 310.2 ])"
            ]
          },
          "metadata": {},
          "execution_count": 11
        }
      ]
    },
    {
      "cell_type": "markdown",
      "source": [
        "std()"
      ],
      "metadata": {
        "id": "R7eYuWDLNuuS"
      }
    },
    {
      "cell_type": "code",
      "source": [
        "np.std(price, axis=0)"
      ],
      "metadata": {
        "id": "rig7Z0VWNzju"
      },
      "execution_count": null,
      "outputs": []
    },
    {
      "cell_type": "markdown",
      "source": [
        "var()"
      ],
      "metadata": {
        "id": "rxY5pVgaN3uK"
      }
    },
    {
      "cell_type": "code",
      "source": [
        "np.var(price, axis=0)"
      ],
      "metadata": {
        "colab": {
          "base_uri": "https://localhost:8080/"
        },
        "id": "GJ1ClzsXN5Dp",
        "outputId": "5c407082-f021-4418-bb39-8c267620a7f5"
      },
      "execution_count": 13,
      "outputs": [
        {
          "output_type": "execute_result",
          "data": {
            "text/plain": [
              "array([1.55555556e-02, 6.22222222e-02, 4.22222222e-02, 1.68888889e-01,\n",
              "       1.66666667e+05])"
            ]
          },
          "metadata": {},
          "execution_count": 13
        }
      ]
    },
    {
      "cell_type": "code",
      "source": [],
      "metadata": {
        "id": "rBQrPop5N9_5"
      },
      "execution_count": null,
      "outputs": []
    }
  ]
}